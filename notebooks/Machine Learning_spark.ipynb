{
 "cells": [
  {
   "cell_type": "code",
   "execution_count": 1,
   "metadata": {
    "id": "h-ucwJ7p73yM"
   },
   "outputs": [],
   "source": [
    "import findspark\n",
    "findspark.init()\n",
    "import pyspark\n",
    "import random\n",
    "import os.path\n",
    "from pyspark.sql.functions import *\n",
    "\n",
    "from pyspark import SparkConf, SparkContext, SQLContext, HiveContext\n",
    "conf = SparkConf()\n",
    "conf.setMaster(\"local[1]\")\n",
    "# Introducid el nombre de la app PEC3_ seguido de vuestro nombre de usuario\n",
    "conf.setAppName(\"PEC3_emadariagal\")\n",
    "sc = SparkContext(conf=conf)"
   ]
  },
  {
   "cell_type": "markdown",
   "metadata": {
    "id": "tJ_7ebB173yT"
   },
   "source": [
    "En esta actividad vamos a trabajar con algortimos de Machine Learning en Spark. \n",
    "\n",
    "En esta actividad vamos a trabajar con algortimos de Machine Learning en Spark para analizar un dataset que el gobierno Mexicano publica diariamente. Se trata de un dataset muy completo sobre la COVID-19 con todos los pacientes testeados para covid y sus caracteristicas clinicas y demogŕaficas. Nuestro objetivo es hacer modelos sobre datos clínicos de pacientes COVID en México para predecir el ingreso en UCI en base a las varibales disponibles.\n",
    "\n",
    "En el siguiente github podeis encontrar los datos y en el fichero descriptores.csv teneis la descripción de las variables que tiene el dataset. \n",
    "https://github.com/coronamex/datos/tree/master/util/datos_abiertos_catalogo\n",
    "\n",
    "El fichero con los datos ya lo hemos copiado en una ruta del servidor para facilitar la práctica.\n",
    "\n",
    "**Nuestro objetivo será estudiar los datos de COVID de esta base de datos y predecir el ingreso en UCI de los pacientes utilizando las variables disponibles.**\n",
    "\n",
    "La práctica se compone de las siguientes partes y puntuaciones.\n",
    "\n",
    "    1) Carga de datos y seleccion de variables 1 PUNTO\n",
    "\n",
    "    2) Analisis descriptivo y limpieza de datos 2 PUNTO\n",
    "\n",
    "    3) Análisis visual 2 PUNTO\n",
    "\n",
    "    4) Regresión logistica 3 PUNTO\n",
    "\n",
    "    5) Arbol de decisión. 2 PUNTO\n"
   ]
  },
  {
   "cell_type": "markdown",
   "metadata": {
    "id": "MUm5ocxP73yX"
   },
   "source": [
    "## Carga de datos y seleccion de variables"
   ]
  },
  {
   "cell_type": "code",
   "execution_count": 2,
   "metadata": {
    "id": "xomW6sR073yZ"
   },
   "outputs": [],
   "source": [
    "sqlContext = SQLContext(sc)\n",
    "\n",
    "df = sqlContext.read.csv(\n",
    "    path=\"file:///22.519/data/base_de_datos_covid.csv\",\n",
    "    header=\"true\",\n",
    "    inferSchema=\"true\",\n",
    "    quote='\"',\n",
    "    sep= \",\"\n",
    ")"
   ]
  },
  {
   "cell_type": "code",
   "execution_count": 3,
   "metadata": {},
   "outputs": [
    {
     "name": "stdout",
     "output_type": "stream",
     "text": [
      "root\n",
      " |-- FECHA_ACTUALIZACION: timestamp (nullable = true)\n",
      " |-- ID_REGISTRO: string (nullable = true)\n",
      " |-- ORIGEN: integer (nullable = true)\n",
      " |-- SECTOR: integer (nullable = true)\n",
      " |-- ENTIDAD_UM: integer (nullable = true)\n",
      " |-- SEXO: integer (nullable = true)\n",
      " |-- ENTIDAD_NAC: integer (nullable = true)\n",
      " |-- ENTIDAD_RES: integer (nullable = true)\n",
      " |-- MUNICIPIO_RES: integer (nullable = true)\n",
      " |-- TIPO_PACIENTE: integer (nullable = true)\n",
      " |-- FECHA_INGRESO: timestamp (nullable = true)\n",
      " |-- FECHA_SINTOMAS: timestamp (nullable = true)\n",
      " |-- FECHA_DEF: string (nullable = true)\n",
      " |-- INTUBADO: integer (nullable = true)\n",
      " |-- NEUMONIA: integer (nullable = true)\n",
      " |-- EDAD: integer (nullable = true)\n",
      " |-- NACIONALIDAD: integer (nullable = true)\n",
      " |-- EMBARAZO: integer (nullable = true)\n",
      " |-- HABLA_LENGUA_INDIG: integer (nullable = true)\n",
      " |-- INDIGENA: integer (nullable = true)\n",
      " |-- DIABETES: integer (nullable = true)\n",
      " |-- EPOC: integer (nullable = true)\n",
      " |-- ASMA: integer (nullable = true)\n",
      " |-- INMUSUPR: integer (nullable = true)\n",
      " |-- HIPERTENSION: integer (nullable = true)\n",
      " |-- OTRA_COM: integer (nullable = true)\n",
      " |-- CARDIOVASCULAR: integer (nullable = true)\n",
      " |-- OBESIDAD: integer (nullable = true)\n",
      " |-- RENAL_CRONICA: integer (nullable = true)\n",
      " |-- TABAQUISMO: integer (nullable = true)\n",
      " |-- OTRO_CASO: integer (nullable = true)\n",
      " |-- TOMA_MUESTRA_LAB: integer (nullable = true)\n",
      " |-- RESULTADO_LAB: integer (nullable = true)\n",
      " |-- TOMA_MUESTRA_ANTIGENO: integer (nullable = true)\n",
      " |-- RESULTADO_ANTIGENO: integer (nullable = true)\n",
      " |-- CLASIFICACION_FINAL: integer (nullable = true)\n",
      " |-- MIGRANTE: integer (nullable = true)\n",
      " |-- PAIS_NACIONALIDAD: string (nullable = true)\n",
      " |-- PAIS_ORIGEN: string (nullable = true)\n",
      " |-- UCI: integer (nullable = true)\n",
      "\n"
     ]
    }
   ],
   "source": [
    "df.printSchema()"
   ]
  },
  {
   "cell_type": "markdown",
   "metadata": {
    "id": "vZg04qwj73yb"
   },
   "source": [
    "Como nuestro objetivo es hacer un analisis sobre datos COVID, lo primero que vamos a hacer es filtrar el conjunto de datos por los que tengan un RESULTADO Positivo para SARS-CoV-2, es decir, según el diccionario de datos RESULTADO_LAB = 1\n"
   ]
  },
  {
   "cell_type": "code",
   "execution_count": 4,
   "metadata": {},
   "outputs": [
    {
     "name": "stdout",
     "output_type": "stream",
     "text": [
      "Total de registros en el conjunto de datos: 1157367\n"
     ]
    }
   ],
   "source": [
    "print('Total de registros en el conjunto de datos:', df.count())"
   ]
  },
  {
   "cell_type": "code",
   "execution_count": 5,
   "metadata": {
    "id": "S41RHJe673ye"
   },
   "outputs": [],
   "source": [
    "df = df.where('RESULTADO_LAB==1')"
   ]
  },
  {
   "cell_type": "markdown",
   "metadata": {
    "id": "czlVbnPh73yh"
   },
   "source": [
    "**¿Con cuantas observaciones nos hemos quedado?**, ya que ese es el número de pacientes que han dado positivo para COVID. \n"
   ]
  },
  {
   "cell_type": "code",
   "execution_count": 6,
   "metadata": {
    "id": "LUIk6IWh73yk"
   },
   "outputs": [
    {
     "name": "stdout",
     "output_type": "stream",
     "text": [
      "Total de registros cuyo resultado_lab fue positivo: 457912\n"
     ]
    }
   ],
   "source": [
    "print('Total de registros cuyo resultado_lab fue positivo:', df.count())"
   ]
  },
  {
   "cell_type": "markdown",
   "metadata": {
    "id": "5vYeDEQz73yl"
   },
   "source": [
    "Ahora vamos a tratar los datos para dejarlos preparados para el analisis. Como nuestro analisis se va a centrar en hacer un modelo sobre caracteristicas clínicas de los pacientes, vamos a eliminar algunas columnas que no utilizaremos como FECHA_ACTUALIZACION, sectores de salud y municipios o la nacionalidad. Nos quedaremos solo con las siguientes variables: **\"SEXO\",\"EDAD\",\"FECHA_DEF\",\"DIABETES\",\"EPOC\",\"ASMA\",\"INMUSUPR\",\"HIPERTENSION\",\"OTRA_COM\",\"CARDIOVASCULAR\",\"OBESIDAD\",\"RENAL_CRONICA\",\"UCI\". Selecciona las variables (utilizando la función select), muestra algunas lineas (utilizando la función show) y muestra el esquema (utilizando printSchema).**\n"
   ]
  },
  {
   "cell_type": "code",
   "execution_count": 7,
   "metadata": {
    "id": "JMCPCUIS73ym"
   },
   "outputs": [],
   "source": [
    "#En esta celda realizad la selección de variables utilizando la función select\n",
    "df = df.select(\"SEXO\",\"EDAD\",\"FECHA_DEF\",\"DIABETES\",\"EPOC\",\"ASMA\",\"INMUSUPR\",\"HIPERTENSION\",\"OTRA_COM\",\"CARDIOVASCULAR\",\"OBESIDAD\",\"RENAL_CRONICA\",\"UCI\")"
   ]
  },
  {
   "cell_type": "code",
   "execution_count": 8,
   "metadata": {
    "id": "lyFcPzCR73yn"
   },
   "outputs": [
    {
     "name": "stdout",
     "output_type": "stream",
     "text": [
      "+----+----+----------+--------+----+----+--------+------------+--------+--------------+--------+-------------+---+\n",
      "|SEXO|EDAD| FECHA_DEF|DIABETES|EPOC|ASMA|INMUSUPR|HIPERTENSION|OTRA_COM|CARDIOVASCULAR|OBESIDAD|RENAL_CRONICA|UCI|\n",
      "+----+----+----------+--------+----+----+--------+------------+--------+--------------+--------+-------------+---+\n",
      "|   2|  47|9999-99-99|       1|   2|   2|       2|           2|       2|             2|       2|            2| 97|\n",
      "|   2|  54|9999-99-99|       2|   2|   2|       2|           2|       2|             2|       2|            2| 97|\n",
      "|   1|  26|9999-99-99|       2|   2|   2|       2|           2|       2|             2|       2|            2| 97|\n",
      "|   1|  32|9999-99-99|       1|   2|   2|       2|           1|       2|             2|       2|            2|  2|\n",
      "|   1|  43|9999-99-99|       2|   2|   2|       2|           2|       2|             2|       2|            2| 97|\n",
      "|   1|  49|9999-99-99|       2|   2|   2|       2|           2|       2|             2|       2|            2|  2|\n",
      "|   2|  47|9999-99-99|       2|   2|   1|       2|           2|       2|             2|       2|            2| 97|\n",
      "|   2|  60|9999-99-99|       1|   2|   2|       2|           2|       2|             2|       2|            2|  1|\n",
      "|   2|  26|9999-99-99|       2|   2|   2|       2|           2|       2|             2|       2|            2| 97|\n",
      "|   2|  56|9999-99-99|       2|   2|   2|       2|           2|       2|             2|       1|            2| 97|\n",
      "|   2|  40|9999-99-99|       2|   2|   2|       2|           2|       2|             2|       2|            2| 97|\n",
      "|   1|  49|9999-99-99|       2|   2|   2|       2|           1|       2|             2|       1|            2| 97|\n",
      "|   1|  57|9999-99-99|       1|   2|   2|       2|           1|       2|             2|       2|            2| 97|\n",
      "|   1|  40|9999-99-99|       2|   1|   2|       2|           2|       2|             2|       2|            2| 97|\n",
      "|   1|  45|9999-99-99|       2|   2|   2|       2|           2|       2|             2|       1|            2| 97|\n",
      "|   1|  67|9999-99-99|       1|   2|   2|       2|           2|       2|             2|       2|            2| 97|\n",
      "|   1|  71|9999-99-99|       2|   2|   2|       2|           1|       2|             2|       2|            2| 97|\n",
      "|   2|  37|9999-99-99|       2|   2|   2|       2|           2|       2|             2|       2|            2| 97|\n",
      "|   1|  58|9999-99-99|       1|   2|   2|       2|           2|       2|             2|       2|            2| 97|\n",
      "|   1|  56|9999-99-99|       1|   2|   2|       2|           2|       2|             2|       2|            2| 97|\n",
      "+----+----+----------+--------+----+----+--------+------------+--------+--------------+--------+-------------+---+\n",
      "only showing top 20 rows\n",
      "\n"
     ]
    }
   ],
   "source": [
    "#En esta celda mostrad algunas lineas del dataframe utilizando la función show\n",
    "df.show()"
   ]
  },
  {
   "cell_type": "code",
   "execution_count": 9,
   "metadata": {
    "id": "NKXyNXjF73yo"
   },
   "outputs": [
    {
     "name": "stdout",
     "output_type": "stream",
     "text": [
      "root\n",
      " |-- SEXO: integer (nullable = true)\n",
      " |-- EDAD: integer (nullable = true)\n",
      " |-- FECHA_DEF: string (nullable = true)\n",
      " |-- DIABETES: integer (nullable = true)\n",
      " |-- EPOC: integer (nullable = true)\n",
      " |-- ASMA: integer (nullable = true)\n",
      " |-- INMUSUPR: integer (nullable = true)\n",
      " |-- HIPERTENSION: integer (nullable = true)\n",
      " |-- OTRA_COM: integer (nullable = true)\n",
      " |-- CARDIOVASCULAR: integer (nullable = true)\n",
      " |-- OBESIDAD: integer (nullable = true)\n",
      " |-- RENAL_CRONICA: integer (nullable = true)\n",
      " |-- UCI: integer (nullable = true)\n",
      "\n"
     ]
    }
   ],
   "source": [
    "#En esta celda mostrad el esquema del dataframe utilizando printSchema\n",
    "df.printSchema()"
   ]
  },
  {
   "cell_type": "markdown",
   "metadata": {
    "id": "Z6IYXUcW73yq"
   },
   "source": [
    "## Analisis descriptivo y limpieza de datos"
   ]
  },
  {
   "cell_type": "markdown",
   "metadata": {
    "id": "95TNk2Im73ys"
   },
   "source": [
    "**Analiza si el dataset contiene nulos para alguna de sus columnas, en caso de que tuviese nulos eliminalos**"
   ]
  },
  {
   "cell_type": "code",
   "execution_count": 10,
   "metadata": {},
   "outputs": [
    {
     "name": "stdout",
     "output_type": "stream",
     "text": [
      "+----+----+---------+--------+----+----+--------+------------+--------+--------------+--------+-------------+---+\n",
      "|SEXO|EDAD|FECHA_DEF|DIABETES|EPOC|ASMA|INMUSUPR|HIPERTENSION|OTRA_COM|CARDIOVASCULAR|OBESIDAD|RENAL_CRONICA|UCI|\n",
      "+----+----+---------+--------+----+----+--------+------------+--------+--------------+--------+-------------+---+\n",
      "|   0|   0|        0|       0|   0|   0|       0|           0|       0|             0|       0|            0|  0|\n",
      "+----+----+---------+--------+----+----+--------+------------+--------+--------------+--------+-------------+---+\n",
      "\n"
     ]
    }
   ],
   "source": [
    "# Recuento de valores nulos en cada columna \n",
    "df.select([sum(col(column).isNull().cast(\"int\")).alias(column) for column in df.columns]).show()"
   ]
  },
  {
   "cell_type": "code",
   "execution_count": 11,
   "metadata": {},
   "outputs": [
    {
     "name": "stdout",
     "output_type": "stream",
     "text": [
      "+----+----+---------+--------+----+----+--------+------------+--------+--------------+--------+-------------+---+\n",
      "|SEXO|EDAD|FECHA_DEF|DIABETES|EPOC|ASMA|INMUSUPR|HIPERTENSION|OTRA_COM|CARDIOVASCULAR|OBESIDAD|RENAL_CRONICA|UCI|\n",
      "+----+----+---------+--------+----+----+--------+------------+--------+--------------+--------+-------------+---+\n",
      "|   0|   0|        0|       0|   0|   0|       0|           0|       0|             0|       0|            0|  0|\n",
      "+----+----+---------+--------+----+----+--------+------------+--------+--------------+--------+-------------+---+\n",
      "\n"
     ]
    }
   ],
   "source": [
    "# Recuento de valores nulos en cada columna \n",
    "df.select([count(when(isnan(column) | col(column).isNull(), column)).alias(column) for column in df.columns]).show()"
   ]
  },
  {
   "cell_type": "code",
   "execution_count": 12,
   "metadata": {},
   "outputs": [
    {
     "name": "stdout",
     "output_type": "stream",
     "text": [
      "+----+----+---------+--------+----+----+--------+------------+--------+--------------+--------+-------------+---+\n",
      "|SEXO|EDAD|FECHA_DEF|DIABETES|EPOC|ASMA|INMUSUPR|HIPERTENSION|OTRA_COM|CARDIOVASCULAR|OBESIDAD|RENAL_CRONICA|UCI|\n",
      "+----+----+---------+--------+----+----+--------+------------+--------+--------------+--------+-------------+---+\n",
      "|   0|   0|        0|       0|   0|   0|       0|           0|       0|             0|       0|            0|  0|\n",
      "+----+----+---------+--------+----+----+--------+------------+--------+--------------+--------+-------------+---+\n",
      "\n"
     ]
    }
   ],
   "source": [
    "# Recuento de valores nulos en cada columna \n",
    "df.select([count(when(col(column).contains('None') | \\\n",
    "                            col(column).contains('NULL') | \\\n",
    "                            (col(column) == '' ) | \\\n",
    "                            col(column).isNull() | \\\n",
    "                            isnan(column), column \n",
    "                           )).alias(column)\n",
    "                    for column in df.columns]).show()"
   ]
  },
  {
   "cell_type": "markdown",
   "metadata": {
    "id": "eqLTvP1d73yx"
   },
   "source": [
    "**Realiza un analisis descriptivo de las variables con las que nos hemos quedado** Para hacerlo podeis utilizar la función *describe()*"
   ]
  },
  {
   "cell_type": "code",
   "execution_count": 13,
   "metadata": {
    "id": "VwrSQO9z73yz"
   },
   "outputs": [
    {
     "name": "stdout",
     "output_type": "stream",
     "text": [
      "+-------+---------------+---------------+----------+---------------+---------------+---------------+---------------+---------------+---------------+---------------+---------------+---------------+---------------+\n",
      "|summary|           SEXO|           EDAD| FECHA_DEF|       DIABETES|           EPOC|           ASMA|       INMUSUPR|   HIPERTENSION|       OTRA_COM| CARDIOVASCULAR|       OBESIDAD|  RENAL_CRONICA|            UCI|\n",
      "+-------+---------------+---------------+----------+---------------+---------------+---------------+---------------+---------------+---------------+---------------+---------------+---------------+---------------+\n",
      "|  count|         457912|         457912|    457912|         457912|         457912|         457912|         457912|         457912|         457912|         457912|         457912|         457912|         457912|\n",
      "|   mean|1.5312614650...|45.172849805...|      null|2.1576154370...|2.2665730533...|2.2541601879...|2.2971138559...|2.1005149461...|2.4571620748...|2.2765837104...|2.1045244501...|2.2697068432...|71.316742081...|\n",
      "| stddev|0.4990223087...|16.473632220...|      null|5.5267512916...|5.1994606891...|5.1875733585...|5.4396342956...|5.3653140829...|6.7916553855...|5.3407672473...|5.3057848500276|5.2670039966...|42.224814796...|\n",
      "|    min|              1|              0|2020-03-18|              1|              1|              1|              1|              1|              1|              1|              1|              1|              1|\n",
      "|    max|              2|            116|9999-99-99|             98|             98|             98|             98|             98|             98|             98|             98|             98|             99|\n",
      "+-------+---------------+---------------+----------+---------------+---------------+---------------+---------------+---------------+---------------+---------------+---------------+---------------+---------------+\n",
      "\n"
     ]
    }
   ],
   "source": [
    "df.describe().show(truncate=15)"
   ]
  },
  {
   "cell_type": "markdown",
   "metadata": {
    "id": "4Tng-kh373y0"
   },
   "source": [
    "Recordamos que el significado de los valores de las variables clinicas es el siguiente: \n",
    "\n",
    "1-> SI\n",
    "\n",
    "2 -> NO\n",
    "\n",
    "97 -> NO APLICA\n",
    "\n",
    "98 -> SE IGNORA\n",
    "\n",
    "99 -> NO ESPECIFICADO\n",
    "\n",
    "**Eliminad los missings de las columnas de las varibales (todas menos UCI), es decir las filas en las que el valor de alguna columna no sea 1 o 2. El dataframe resultante de eliminar los missing debeis asignarlo al dataframe *df* ¿Con cuantos registros nos quedamos ahora, mostradlo por pantalla?**"
   ]
  },
  {
   "cell_type": "code",
   "execution_count": 14,
   "metadata": {},
   "outputs": [
    {
     "name": "stdout",
     "output_type": "stream",
     "text": [
      "+----+----+---------+--------+----+----+--------+------------+--------+--------------+--------+-------------+---+\n",
      "|SEXO|EDAD|FECHA_DEF|DIABETES|EPOC|ASMA|INMUSUPR|HIPERTENSION|OTRA_COM|CARDIOVASCULAR|OBESIDAD|RENAL_CRONICA|UCI|\n",
      "+----+----+---------+--------+----+----+--------+------------+--------+--------------+--------+-------------+---+\n",
      "|   2| 112|      220|       3|   3|   3|       3|           3|       3|             3|       3|            3|  4|\n",
      "+----+----+---------+--------+----+----+--------+------------+--------+--------------+--------+-------------+---+\n",
      "\n"
     ]
    }
   ],
   "source": [
    "# Contar valores unicos por columna\n",
    "expression = [countDistinct(c).alias(c) for c in df.columns]\n",
    "df.select(*expression).show()"
   ]
  },
  {
   "cell_type": "code",
   "execution_count": 15,
   "metadata": {},
   "outputs": [],
   "source": [
    "# ALTERNATIVA - Visualizar los 5 primeros valores unicos de cada columna\n",
    "#[df.groupBy(c).agg(collect_set(c).alias('valores_distintos')).show(5) for c in df.columns]"
   ]
  },
  {
   "cell_type": "code",
   "execution_count": 16,
   "metadata": {},
   "outputs": [
    {
     "name": "stdout",
     "output_type": "stream",
     "text": [
      "+----+\n",
      "|SEXO|\n",
      "+----+\n",
      "|   1|\n",
      "|   2|\n",
      "+----+\n",
      "\n"
     ]
    }
   ],
   "source": [
    "# Valores unicos del campo 'SEXO'\n",
    "df.select('SEXO').distinct().show()"
   ]
  },
  {
   "cell_type": "code",
   "execution_count": 17,
   "metadata": {},
   "outputs": [
    {
     "name": "stdout",
     "output_type": "stream",
     "text": [
      "+--------+\n",
      "|DIABETES|\n",
      "+--------+\n",
      "|       1|\n",
      "|      98|\n",
      "|       2|\n",
      "+--------+\n",
      "\n"
     ]
    }
   ],
   "source": [
    "# Valores unicos del campo 'DIABETES'\n",
    "df.select('DIABETES').distinct().show()"
   ]
  },
  {
   "cell_type": "code",
   "execution_count": 18,
   "metadata": {},
   "outputs": [
    {
     "name": "stdout",
     "output_type": "stream",
     "text": [
      "+---+\n",
      "|UCI|\n",
      "+---+\n",
      "|  1|\n",
      "| 97|\n",
      "|  2|\n",
      "| 99|\n",
      "+---+\n",
      "\n"
     ]
    }
   ],
   "source": [
    "# Valores unicos del campo 'UCI'\n",
    "df.select('UCI').distinct().show()"
   ]
  },
  {
   "cell_type": "code",
   "execution_count": 19,
   "metadata": {},
   "outputs": [
    {
     "data": {
      "text/plain": [
       "454703"
      ]
     },
     "execution_count": 19,
     "metadata": {},
     "output_type": "execute_result"
    }
   ],
   "source": [
    "df = df.where(\n",
    "         ((col('SEXO') == 1) | (col('SEXO') == 2)) &\n",
    "         ((col('DIABETES') == 1) | (col('DIABETES') == 2)) &\n",
    "         ((col('EPOC') == 1) | (col('EPOC') == 2)) &\n",
    "         ((col('ASMA') == 1) | (col('ASMA') == 2)) &\n",
    "         ((col('INMUSUPR') == 1) | (col('INMUSUPR') == 2)) &\n",
    "         ((col('HIPERTENSION') == 1) | (col('HIPERTENSION') == 2)) &\n",
    "         ((col('OTRA_COM') == 1) | (col('OTRA_COM') == 2)) &\n",
    "         ((col('CARDIOVASCULAR') == 1) | (col('CARDIOVASCULAR') == 2)) &\n",
    "         ((col('OBESIDAD') == 1) | (col('OBESIDAD') == 2)) &\n",
    "         ((col('RENAL_CRONICA') == 1) | (col('RENAL_CRONICA') == 2))\n",
    ") \n",
    "\n",
    "\n",
    "df.count()"
   ]
  },
  {
   "cell_type": "code",
   "execution_count": 20,
   "metadata": {},
   "outputs": [
    {
     "name": "stdout",
     "output_type": "stream",
     "text": [
      "+--------+\n",
      "|DIABETES|\n",
      "+--------+\n",
      "|       1|\n",
      "|       2|\n",
      "+--------+\n",
      "\n"
     ]
    }
   ],
   "source": [
    "#Comprobacion: Valores unicos del campo 'DIABETES'\n",
    "df.select('DIABETES').distinct().show()"
   ]
  },
  {
   "cell_type": "code",
   "execution_count": 21,
   "metadata": {},
   "outputs": [
    {
     "name": "stdout",
     "output_type": "stream",
     "text": [
      "+--------+\n",
      "|INMUSUPR|\n",
      "+--------+\n",
      "|       1|\n",
      "|       2|\n",
      "+--------+\n",
      "\n"
     ]
    }
   ],
   "source": [
    "#Comprobacion: Valores unicos del campo 'INMUSUPR'\n",
    "df.select('INMUSUPR').distinct().show()"
   ]
  },
  {
   "cell_type": "code",
   "execution_count": 22,
   "metadata": {},
   "outputs": [
    {
     "name": "stdout",
     "output_type": "stream",
     "text": [
      "+----+----+----------+--------+----+----+--------+------------+--------+--------------+--------+-------------+---+\n",
      "|SEXO|EDAD| FECHA_DEF|DIABETES|EPOC|ASMA|INMUSUPR|HIPERTENSION|OTRA_COM|CARDIOVASCULAR|OBESIDAD|RENAL_CRONICA|UCI|\n",
      "+----+----+----------+--------+----+----+--------+------------+--------+--------------+--------+-------------+---+\n",
      "|   2|  47|9999-99-99|       1|   2|   2|       2|           2|       2|             2|       2|            2| 97|\n",
      "|   2|  54|9999-99-99|       2|   2|   2|       2|           2|       2|             2|       2|            2| 97|\n",
      "|   1|  26|9999-99-99|       2|   2|   2|       2|           2|       2|             2|       2|            2| 97|\n",
      "|   1|  32|9999-99-99|       1|   2|   2|       2|           1|       2|             2|       2|            2|  2|\n",
      "|   1|  43|9999-99-99|       2|   2|   2|       2|           2|       2|             2|       2|            2| 97|\n",
      "|   1|  49|9999-99-99|       2|   2|   2|       2|           2|       2|             2|       2|            2|  2|\n",
      "|   2|  47|9999-99-99|       2|   2|   1|       2|           2|       2|             2|       2|            2| 97|\n",
      "|   2|  60|9999-99-99|       1|   2|   2|       2|           2|       2|             2|       2|            2|  1|\n",
      "|   2|  26|9999-99-99|       2|   2|   2|       2|           2|       2|             2|       2|            2| 97|\n",
      "|   2|  56|9999-99-99|       2|   2|   2|       2|           2|       2|             2|       1|            2| 97|\n",
      "|   2|  40|9999-99-99|       2|   2|   2|       2|           2|       2|             2|       2|            2| 97|\n",
      "|   1|  49|9999-99-99|       2|   2|   2|       2|           1|       2|             2|       1|            2| 97|\n",
      "|   1|  57|9999-99-99|       1|   2|   2|       2|           1|       2|             2|       2|            2| 97|\n",
      "|   1|  40|9999-99-99|       2|   1|   2|       2|           2|       2|             2|       2|            2| 97|\n",
      "|   1|  45|9999-99-99|       2|   2|   2|       2|           2|       2|             2|       1|            2| 97|\n",
      "|   1|  67|9999-99-99|       1|   2|   2|       2|           2|       2|             2|       2|            2| 97|\n",
      "|   1|  71|9999-99-99|       2|   2|   2|       2|           1|       2|             2|       2|            2| 97|\n",
      "|   2|  37|9999-99-99|       2|   2|   2|       2|           2|       2|             2|       2|            2| 97|\n",
      "|   1|  58|9999-99-99|       1|   2|   2|       2|           2|       2|             2|       2|            2| 97|\n",
      "|   1|  56|9999-99-99|       1|   2|   2|       2|           2|       2|             2|       2|            2| 97|\n",
      "+----+----+----------+--------+----+----+--------+------------+--------+--------------+--------+-------------+---+\n",
      "only showing top 20 rows\n",
      "\n"
     ]
    }
   ],
   "source": [
    "df.show()"
   ]
  },
  {
   "cell_type": "markdown",
   "metadata": {
    "id": "BZ5KOes873y3"
   },
   "source": [
    "**Para la variable UCI que es la que intentaremos predecir, si no aplica vamos a suponer que significa que el paciente NO ha ingresado en UCI**"
   ]
  },
  {
   "cell_type": "code",
   "execution_count": 23,
   "metadata": {
    "id": "HURh_NFA73y4"
   },
   "outputs": [
    {
     "name": "stdout",
     "output_type": "stream",
     "text": [
      "+----+----+----------+--------+----+----+--------+------------+--------+--------------+--------+-------------+---+\n",
      "|SEXO|EDAD| FECHA_DEF|DIABETES|EPOC|ASMA|INMUSUPR|HIPERTENSION|OTRA_COM|CARDIOVASCULAR|OBESIDAD|RENAL_CRONICA|UCI|\n",
      "+----+----+----------+--------+----+----+--------+------------+--------+--------------+--------+-------------+---+\n",
      "|   2|  47|9999-99-99|       1|   2|   2|       2|           2|       2|             2|       2|            2|  2|\n",
      "|   2|  54|9999-99-99|       2|   2|   2|       2|           2|       2|             2|       2|            2|  2|\n",
      "|   1|  26|9999-99-99|       2|   2|   2|       2|           2|       2|             2|       2|            2|  2|\n",
      "|   1|  32|9999-99-99|       1|   2|   2|       2|           1|       2|             2|       2|            2|  2|\n",
      "|   1|  43|9999-99-99|       2|   2|   2|       2|           2|       2|             2|       2|            2|  2|\n",
      "|   1|  49|9999-99-99|       2|   2|   2|       2|           2|       2|             2|       2|            2|  2|\n",
      "|   2|  47|9999-99-99|       2|   2|   1|       2|           2|       2|             2|       2|            2|  2|\n",
      "|   2|  60|9999-99-99|       1|   2|   2|       2|           2|       2|             2|       2|            2|  1|\n",
      "|   2|  26|9999-99-99|       2|   2|   2|       2|           2|       2|             2|       2|            2|  2|\n",
      "|   2|  56|9999-99-99|       2|   2|   2|       2|           2|       2|             2|       1|            2|  2|\n",
      "+----+----+----------+--------+----+----+--------+------------+--------+--------------+--------+-------------+---+\n",
      "only showing top 10 rows\n",
      "\n"
     ]
    }
   ],
   "source": [
    "#Construir el nuevo dataframe en el que cuando en la variable UCI haya un valor distinto a 1 o 2 se le asigne el valor 2.\n",
    "df = df.replace([97, 98, 99], 2, 'UCI')\n",
    "df.show(10)"
   ]
  },
  {
   "cell_type": "code",
   "execution_count": 24,
   "metadata": {
    "id": "-C74Xp6473y6"
   },
   "outputs": [
    {
     "data": {
      "text/plain": [
       "454703"
      ]
     },
     "execution_count": 24,
     "metadata": {},
     "output_type": "execute_result"
    }
   ],
   "source": [
    "#Mostrad por pantalla el número de registros que tiene este nuevo dataframe\n",
    "df.count()"
   ]
  },
  {
   "cell_type": "code",
   "execution_count": 25,
   "metadata": {},
   "outputs": [
    {
     "name": "stdout",
     "output_type": "stream",
     "text": [
      "+---+\n",
      "|UCI|\n",
      "+---+\n",
      "|  1|\n",
      "|  2|\n",
      "+---+\n",
      "\n"
     ]
    }
   ],
   "source": [
    "#Comprobacion: Valores unicos del campo 'UCI'\n",
    "df.select('UCI').distinct().show()"
   ]
  },
  {
   "cell_type": "markdown",
   "metadata": {
    "id": "9PjLi2IW73y7"
   },
   "source": [
    "**Realiza un analisis descriptivo del dataframe final con el que vamos a trabajar**. Podeis volver a usar la función describe()"
   ]
  },
  {
   "cell_type": "code",
   "execution_count": 26,
   "metadata": {
    "id": "WeuCbDnT73y8"
   },
   "outputs": [
    {
     "name": "stdout",
     "output_type": "stream",
     "text": [
      "+-------+----------+----------+----------+----------+----------+----------+----------+------------+----------+--------------+----------+-------------+----------+\n",
      "|summary|      SEXO|      EDAD| FECHA_DEF|  DIABETES|      EPOC|      ASMA|  INMUSUPR|HIPERTENSION|  OTRA_COM|CARDIOVASCULAR|  OBESIDAD|RENAL_CRONICA|       UCI|\n",
      "+-------+----------+----------+----------+----------+----------+----------+----------+------------+----------+--------------+----------+-------------+----------+\n",
      "|  count|    454703|    454703|    454703|    454703|    454703|    454703|    454703|      454703|    454703|        454703|    454703|       454703|    454703|\n",
      "|   mean|1.53076...|45.1377...|      null|1.84077...|1.98439...|1.97339...|1.98811...|  1.80245...|1.97471...|    1.97892...|1.81289...|   1.98016...|1.97519...|\n",
      "| stddev|0.49905...|16.4653...|      null|0.36588...|0.12392...|0.16093...|0.10836...|  0.39814...|0.15698...|    0.14362...|0.38999...|   0.13941...|0.15552...|\n",
      "|    min|         1|         0|2020-03-18|         1|         1|         1|         1|           1|         1|             1|         1|            1|         1|\n",
      "|    max|         2|       116|9999-99-99|         2|         2|         2|         2|           2|         2|             2|         2|            2|         2|\n",
      "+-------+----------+----------+----------+----------+----------+----------+----------+------------+----------+--------------+----------+-------------+----------+\n",
      "\n"
     ]
    }
   ],
   "source": [
    "df.describe().show(5, truncate=10)"
   ]
  },
  {
   "cell_type": "markdown",
   "metadata": {
    "id": "QKnSCW6R73y9"
   },
   "source": [
    "## **ANALISIS VISUAL**"
   ]
  },
  {
   "cell_type": "markdown",
   "metadata": {
    "id": "2-jNYM-373y9"
   },
   "source": [
    "En este apartado vamos a hacer un analisis visual de los datos para entenderlos mejor. Lo primero que haremos será convertir el dataframe de Spark a pandas para hacer las graficas de forma más sencilla."
   ]
  },
  {
   "cell_type": "code",
   "execution_count": 27,
   "metadata": {
    "id": "MTDN2BAd73y-"
   },
   "outputs": [],
   "source": [
    "from matplotlib import pyplot as plt\n",
    "\n",
    "data = df.toPandas()"
   ]
  },
  {
   "cell_type": "code",
   "execution_count": 28,
   "metadata": {
    "id": "m6TdJg2p73y-"
   },
   "outputs": [
    {
     "data": {
      "text/html": [
       "<div>\n",
       "<style scoped>\n",
       "    .dataframe tbody tr th:only-of-type {\n",
       "        vertical-align: middle;\n",
       "    }\n",
       "\n",
       "    .dataframe tbody tr th {\n",
       "        vertical-align: top;\n",
       "    }\n",
       "\n",
       "    .dataframe thead th {\n",
       "        text-align: right;\n",
       "    }\n",
       "</style>\n",
       "<table border=\"1\" class=\"dataframe\">\n",
       "  <thead>\n",
       "    <tr style=\"text-align: right;\">\n",
       "      <th></th>\n",
       "      <th>SEXO</th>\n",
       "      <th>EDAD</th>\n",
       "      <th>FECHA_DEF</th>\n",
       "      <th>DIABETES</th>\n",
       "      <th>EPOC</th>\n",
       "      <th>ASMA</th>\n",
       "      <th>INMUSUPR</th>\n",
       "      <th>HIPERTENSION</th>\n",
       "      <th>OTRA_COM</th>\n",
       "      <th>CARDIOVASCULAR</th>\n",
       "      <th>OBESIDAD</th>\n",
       "      <th>RENAL_CRONICA</th>\n",
       "      <th>UCI</th>\n",
       "    </tr>\n",
       "  </thead>\n",
       "  <tbody>\n",
       "    <tr>\n",
       "      <th>0</th>\n",
       "      <td>2</td>\n",
       "      <td>47</td>\n",
       "      <td>9999-99-99</td>\n",
       "      <td>1</td>\n",
       "      <td>2</td>\n",
       "      <td>2</td>\n",
       "      <td>2</td>\n",
       "      <td>2</td>\n",
       "      <td>2</td>\n",
       "      <td>2</td>\n",
       "      <td>2</td>\n",
       "      <td>2</td>\n",
       "      <td>2</td>\n",
       "    </tr>\n",
       "    <tr>\n",
       "      <th>1</th>\n",
       "      <td>2</td>\n",
       "      <td>54</td>\n",
       "      <td>9999-99-99</td>\n",
       "      <td>2</td>\n",
       "      <td>2</td>\n",
       "      <td>2</td>\n",
       "      <td>2</td>\n",
       "      <td>2</td>\n",
       "      <td>2</td>\n",
       "      <td>2</td>\n",
       "      <td>2</td>\n",
       "      <td>2</td>\n",
       "      <td>2</td>\n",
       "    </tr>\n",
       "    <tr>\n",
       "      <th>2</th>\n",
       "      <td>1</td>\n",
       "      <td>26</td>\n",
       "      <td>9999-99-99</td>\n",
       "      <td>2</td>\n",
       "      <td>2</td>\n",
       "      <td>2</td>\n",
       "      <td>2</td>\n",
       "      <td>2</td>\n",
       "      <td>2</td>\n",
       "      <td>2</td>\n",
       "      <td>2</td>\n",
       "      <td>2</td>\n",
       "      <td>2</td>\n",
       "    </tr>\n",
       "    <tr>\n",
       "      <th>3</th>\n",
       "      <td>1</td>\n",
       "      <td>32</td>\n",
       "      <td>9999-99-99</td>\n",
       "      <td>1</td>\n",
       "      <td>2</td>\n",
       "      <td>2</td>\n",
       "      <td>2</td>\n",
       "      <td>1</td>\n",
       "      <td>2</td>\n",
       "      <td>2</td>\n",
       "      <td>2</td>\n",
       "      <td>2</td>\n",
       "      <td>2</td>\n",
       "    </tr>\n",
       "    <tr>\n",
       "      <th>4</th>\n",
       "      <td>1</td>\n",
       "      <td>43</td>\n",
       "      <td>9999-99-99</td>\n",
       "      <td>2</td>\n",
       "      <td>2</td>\n",
       "      <td>2</td>\n",
       "      <td>2</td>\n",
       "      <td>2</td>\n",
       "      <td>2</td>\n",
       "      <td>2</td>\n",
       "      <td>2</td>\n",
       "      <td>2</td>\n",
       "      <td>2</td>\n",
       "    </tr>\n",
       "  </tbody>\n",
       "</table>\n",
       "</div>"
      ],
      "text/plain": [
       "   SEXO  EDAD   FECHA_DEF  DIABETES  EPOC  ASMA  INMUSUPR  HIPERTENSION  \\\n",
       "0     2    47  9999-99-99         1     2     2         2             2   \n",
       "1     2    54  9999-99-99         2     2     2         2             2   \n",
       "2     1    26  9999-99-99         2     2     2         2             2   \n",
       "3     1    32  9999-99-99         1     2     2         2             1   \n",
       "4     1    43  9999-99-99         2     2     2         2             2   \n",
       "\n",
       "   OTRA_COM  CARDIOVASCULAR  OBESIDAD  RENAL_CRONICA  UCI  \n",
       "0         2               2         2              2    2  \n",
       "1         2               2         2              2    2  \n",
       "2         2               2         2              2    2  \n",
       "3         2               2         2              2    2  \n",
       "4         2               2         2              2    2  "
      ]
     },
     "execution_count": 28,
     "metadata": {},
     "output_type": "execute_result"
    }
   ],
   "source": [
    "data.head()"
   ]
  },
  {
   "cell_type": "code",
   "execution_count": 29,
   "metadata": {},
   "outputs": [
    {
     "data": {
      "text/html": [
       "<div>\n",
       "<style scoped>\n",
       "    .dataframe tbody tr th:only-of-type {\n",
       "        vertical-align: middle;\n",
       "    }\n",
       "\n",
       "    .dataframe tbody tr th {\n",
       "        vertical-align: top;\n",
       "    }\n",
       "\n",
       "    .dataframe thead th {\n",
       "        text-align: right;\n",
       "    }\n",
       "</style>\n",
       "<table border=\"1\" class=\"dataframe\">\n",
       "  <thead>\n",
       "    <tr style=\"text-align: right;\">\n",
       "      <th></th>\n",
       "      <th>SEXO</th>\n",
       "      <th>EDAD</th>\n",
       "      <th>FECHA_DEF</th>\n",
       "      <th>DIABETES</th>\n",
       "      <th>EPOC</th>\n",
       "      <th>ASMA</th>\n",
       "      <th>INMUSUPR</th>\n",
       "      <th>HIPERTENSION</th>\n",
       "      <th>OTRA_COM</th>\n",
       "      <th>CARDIOVASCULAR</th>\n",
       "      <th>OBESIDAD</th>\n",
       "      <th>RENAL_CRONICA</th>\n",
       "      <th>UCI</th>\n",
       "    </tr>\n",
       "  </thead>\n",
       "  <tbody>\n",
       "    <tr>\n",
       "      <th>7</th>\n",
       "      <td>2</td>\n",
       "      <td>60</td>\n",
       "      <td>9999-99-99</td>\n",
       "      <td>1</td>\n",
       "      <td>2</td>\n",
       "      <td>2</td>\n",
       "      <td>2</td>\n",
       "      <td>2</td>\n",
       "      <td>2</td>\n",
       "      <td>2</td>\n",
       "      <td>2</td>\n",
       "      <td>2</td>\n",
       "      <td>1</td>\n",
       "    </tr>\n",
       "    <tr>\n",
       "      <th>57</th>\n",
       "      <td>2</td>\n",
       "      <td>59</td>\n",
       "      <td>9999-99-99</td>\n",
       "      <td>2</td>\n",
       "      <td>2</td>\n",
       "      <td>2</td>\n",
       "      <td>2</td>\n",
       "      <td>2</td>\n",
       "      <td>2</td>\n",
       "      <td>2</td>\n",
       "      <td>2</td>\n",
       "      <td>2</td>\n",
       "      <td>1</td>\n",
       "    </tr>\n",
       "    <tr>\n",
       "      <th>73</th>\n",
       "      <td>2</td>\n",
       "      <td>69</td>\n",
       "      <td>2020-03-27</td>\n",
       "      <td>2</td>\n",
       "      <td>1</td>\n",
       "      <td>2</td>\n",
       "      <td>2</td>\n",
       "      <td>2</td>\n",
       "      <td>2</td>\n",
       "      <td>2</td>\n",
       "      <td>2</td>\n",
       "      <td>2</td>\n",
       "      <td>1</td>\n",
       "    </tr>\n",
       "  </tbody>\n",
       "</table>\n",
       "</div>"
      ],
      "text/plain": [
       "    SEXO  EDAD   FECHA_DEF  DIABETES  EPOC  ASMA  INMUSUPR  HIPERTENSION  \\\n",
       "7      2    60  9999-99-99         1     2     2         2             2   \n",
       "57     2    59  9999-99-99         2     2     2         2             2   \n",
       "73     2    69  2020-03-27         2     1     2         2             2   \n",
       "\n",
       "    OTRA_COM  CARDIOVASCULAR  OBESIDAD  RENAL_CRONICA  UCI  \n",
       "7          2               2         2              2    1  \n",
       "57         2               2         2              2    1  \n",
       "73         2               2         2              2    1  "
      ]
     },
     "execution_count": 29,
     "metadata": {},
     "output_type": "execute_result"
    }
   ],
   "source": [
    "ingresados_uci = data.loc[data['UCI'] == 1]\n",
    "ingresados_uci.head(3)"
   ]
  },
  {
   "cell_type": "code",
   "execution_count": 30,
   "metadata": {},
   "outputs": [
    {
     "name": "stderr",
     "output_type": "stream",
     "text": [
      "/usr/local/lib/python3.5/dist-packages/ipykernel_launcher.py:1: FutureWarning: using a dict on a Series for aggregation\n",
      "is deprecated and will be removed in a future version\n",
      "  \"\"\"Entry point for launching an IPython kernel.\n"
     ]
    },
    {
     "data": {
      "text/html": [
       "<div>\n",
       "<style scoped>\n",
       "    .dataframe tbody tr th:only-of-type {\n",
       "        vertical-align: middle;\n",
       "    }\n",
       "\n",
       "    .dataframe tbody tr th {\n",
       "        vertical-align: top;\n",
       "    }\n",
       "\n",
       "    .dataframe thead th {\n",
       "        text-align: right;\n",
       "    }\n",
       "</style>\n",
       "<table border=\"1\" class=\"dataframe\">\n",
       "  <thead>\n",
       "    <tr style=\"text-align: right;\">\n",
       "      <th></th>\n",
       "      <th>EDAD</th>\n",
       "      <th>TOTAL_INGRESADOS</th>\n",
       "    </tr>\n",
       "  </thead>\n",
       "  <tbody>\n",
       "    <tr>\n",
       "      <th>0</th>\n",
       "      <td>0</td>\n",
       "      <td>197</td>\n",
       "    </tr>\n",
       "    <tr>\n",
       "      <th>1</th>\n",
       "      <td>1</td>\n",
       "      <td>28</td>\n",
       "    </tr>\n",
       "    <tr>\n",
       "      <th>2</th>\n",
       "      <td>2</td>\n",
       "      <td>13</td>\n",
       "    </tr>\n",
       "    <tr>\n",
       "      <th>3</th>\n",
       "      <td>3</td>\n",
       "      <td>8</td>\n",
       "    </tr>\n",
       "    <tr>\n",
       "      <th>4</th>\n",
       "      <td>4</td>\n",
       "      <td>8</td>\n",
       "    </tr>\n",
       "  </tbody>\n",
       "</table>\n",
       "</div>"
      ],
      "text/plain": [
       "   EDAD  TOTAL_INGRESADOS\n",
       "0     0               197\n",
       "1     1                28\n",
       "2     2                13\n",
       "3     3                 8\n",
       "4     4                 8"
      ]
     },
     "execution_count": 30,
     "metadata": {},
     "output_type": "execute_result"
    }
   ],
   "source": [
    "ingresados_uci = ingresados_uci.groupby('EDAD')['UCI'].agg({'TOTAL_INGRESADOS': 'count'}).reset_index()\n",
    "ingresados_uci.head()"
   ]
  },
  {
   "cell_type": "markdown",
   "metadata": {
    "id": "kSPVWUCd73y-"
   },
   "source": [
    "**Realiza una gráfica en la que se vea el numero de pacientes ingresados en UCI por edad. Recordamos que 1 significa SÍ y 2 significa NO.** A continuación podeis ver un ejemplo de lo que queremos obtener\n",
    "\n"
   ]
  },
  {
   "cell_type": "code",
   "execution_count": 31,
   "metadata": {
    "id": "zzTyub_w73zD"
   },
   "outputs": [
    {
     "data": {
      "image/png": "[encoded data removed]",
      "text/plain": [
       "<Figure size 1440x720 with 1 Axes>"
      ]
     },
     "metadata": {
      "needs_background": "light"
     },
     "output_type": "display_data"
    }
   ],
   "source": [
    "#Realizad la gráfica\n",
    "plt.figure(figsize=(20,10)) \n",
    "plt.plot('EDAD', 'TOTAL_INGRESADOS', data=ingresados_uci)\n",
    "plt.title('Ingresados en UCI por edad')\n",
    "plt.xlabel('Edad')\n",
    "plt.ylabel('Total_ingresados')\n",
    "plt.show()"
   ]
  },
  {
   "cell_type": "markdown",
   "metadata": {
    "id": "klpK78tC73zE"
   },
   "source": [
    "**Realiza una gráfica en la que se vea el numero de pacientes fallecidos por edad. Para saber si un paciente ha fallecido la fecha de defunción tiene que ser distinta a 9999-99-99**"
   ]
  },
  {
   "cell_type": "code",
   "execution_count": 32,
   "metadata": {
    "id": "cZWvbxyT73zF"
   },
   "outputs": [
    {
     "name": "stderr",
     "output_type": "stream",
     "text": [
      "/usr/local/lib/python3.5/dist-packages/ipykernel_launcher.py:1: FutureWarning: using a dict on a Series for aggregation\n",
      "is deprecated and will be removed in a future version\n",
      "  \"\"\"Entry point for launching an IPython kernel.\n"
     ]
    },
    {
     "data": {
      "text/html": [
       "<div>\n",
       "<style scoped>\n",
       "    .dataframe tbody tr th:only-of-type {\n",
       "        vertical-align: middle;\n",
       "    }\n",
       "\n",
       "    .dataframe tbody tr th {\n",
       "        vertical-align: top;\n",
       "    }\n",
       "\n",
       "    .dataframe thead th {\n",
       "        text-align: right;\n",
       "    }\n",
       "</style>\n",
       "<table border=\"1\" class=\"dataframe\">\n",
       "  <thead>\n",
       "    <tr style=\"text-align: right;\">\n",
       "      <th></th>\n",
       "      <th>EDAD</th>\n",
       "      <th>TOTAL_FALLECIDOS</th>\n",
       "    </tr>\n",
       "  </thead>\n",
       "  <tbody>\n",
       "    <tr>\n",
       "      <th>0</th>\n",
       "      <td>0</td>\n",
       "      <td>56</td>\n",
       "    </tr>\n",
       "    <tr>\n",
       "      <th>1</th>\n",
       "      <td>1</td>\n",
       "      <td>38</td>\n",
       "    </tr>\n",
       "    <tr>\n",
       "      <th>2</th>\n",
       "      <td>2</td>\n",
       "      <td>8</td>\n",
       "    </tr>\n",
       "    <tr>\n",
       "      <th>3</th>\n",
       "      <td>3</td>\n",
       "      <td>10</td>\n",
       "    </tr>\n",
       "    <tr>\n",
       "      <th>4</th>\n",
       "      <td>4</td>\n",
       "      <td>5</td>\n",
       "    </tr>\n",
       "  </tbody>\n",
       "</table>\n",
       "</div>"
      ],
      "text/plain": [
       "   EDAD  TOTAL_FALLECIDOS\n",
       "0     0                56\n",
       "1     1                38\n",
       "2     2                 8\n",
       "3     3                10\n",
       "4     4                 5"
      ]
     },
     "execution_count": 32,
     "metadata": {},
     "output_type": "execute_result"
    }
   ],
   "source": [
    "fallecidos = data.loc[data['FECHA_DEF'] != '9999-99-99'].groupby('EDAD')['FECHA_DEF'].agg({'TOTAL_FALLECIDOS': 'count'}).reset_index()\n",
    "fallecidos.head()"
   ]
  },
  {
   "cell_type": "code",
   "execution_count": 33,
   "metadata": {},
   "outputs": [
    {
     "data": {
      "image/png": "[encoded data removed]",
      "text/plain": [
       "<Figure size 1440x720 with 1 Axes>"
      ]
     },
     "metadata": {
      "needs_background": "light"
     },
     "output_type": "display_data"
    }
   ],
   "source": [
    "#Realizad la gráfica\n",
    "\n",
    "plt.figure(figsize=(20,10)) \n",
    "plt.plot('EDAD', 'TOTAL_FALLECIDOS', data=fallecidos, color='red')\n",
    "plt.title('Fallecidos por edad')\n",
    "plt.xlabel('Edad')\n",
    "plt.ylabel('Total_fallecidos')\n",
    "plt.show()"
   ]
  },
  {
   "cell_type": "markdown",
   "metadata": {
    "id": "DbbDu_5X73zG"
   },
   "source": [
    "**Muestra en una gráfica cuantos pacientes tienen cada una de las comorbilidades (diabetes, epoc, asma, ...) sobre el total de los pacientes.**"
   ]
  },
  {
   "cell_type": "code",
   "execution_count": 34,
   "metadata": {},
   "outputs": [
    {
     "data": {
      "text/html": [
       "<div>\n",
       "<style scoped>\n",
       "    .dataframe tbody tr th:only-of-type {\n",
       "        vertical-align: middle;\n",
       "    }\n",
       "\n",
       "    .dataframe tbody tr th {\n",
       "        vertical-align: top;\n",
       "    }\n",
       "\n",
       "    .dataframe thead th {\n",
       "        text-align: right;\n",
       "    }\n",
       "</style>\n",
       "<table border=\"1\" class=\"dataframe\">\n",
       "  <thead>\n",
       "    <tr style=\"text-align: right;\">\n",
       "      <th></th>\n",
       "      <th>enfermedad</th>\n",
       "      <th>total</th>\n",
       "    </tr>\n",
       "  </thead>\n",
       "  <tbody>\n",
       "    <tr>\n",
       "      <th>0</th>\n",
       "      <td>DIABETES</td>\n",
       "      <td>72399</td>\n",
       "    </tr>\n",
       "    <tr>\n",
       "      <th>1</th>\n",
       "      <td>EPOC</td>\n",
       "      <td>7094</td>\n",
       "    </tr>\n",
       "    <tr>\n",
       "      <th>2</th>\n",
       "      <td>ASMA</td>\n",
       "      <td>12098</td>\n",
       "    </tr>\n",
       "    <tr>\n",
       "      <th>3</th>\n",
       "      <td>INMUSUPR</td>\n",
       "      <td>5404</td>\n",
       "    </tr>\n",
       "    <tr>\n",
       "      <th>4</th>\n",
       "      <td>HIPERTENSION</td>\n",
       "      <td>89823</td>\n",
       "    </tr>\n",
       "    <tr>\n",
       "      <th>5</th>\n",
       "      <td>OTRA_COM</td>\n",
       "      <td>11497</td>\n",
       "    </tr>\n",
       "    <tr>\n",
       "      <th>6</th>\n",
       "      <td>CARDIOVASCULAR</td>\n",
       "      <td>9582</td>\n",
       "    </tr>\n",
       "    <tr>\n",
       "      <th>7</th>\n",
       "      <td>OBESIDAD</td>\n",
       "      <td>85075</td>\n",
       "    </tr>\n",
       "    <tr>\n",
       "      <th>8</th>\n",
       "      <td>RENAL_CRONICA</td>\n",
       "      <td>9017</td>\n",
       "    </tr>\n",
       "  </tbody>\n",
       "</table>\n",
       "</div>"
      ],
      "text/plain": [
       "       enfermedad  total\n",
       "0        DIABETES  72399\n",
       "1            EPOC   7094\n",
       "2            ASMA  12098\n",
       "3        INMUSUPR   5404\n",
       "4    HIPERTENSION  89823\n",
       "5        OTRA_COM  11497\n",
       "6  CARDIOVASCULAR   9582\n",
       "7        OBESIDAD  85075\n",
       "8   RENAL_CRONICA   9017"
      ]
     },
     "execution_count": 34,
     "metadata": {},
     "output_type": "execute_result"
    }
   ],
   "source": [
    "import pandas as pd\n",
    "\n",
    "enfermedad_total =  pd.DataFrame(columns=['enfermedad', 'total'])\n",
    "comorbilidades = [\"DIABETES\", \"EPOC\", \"ASMA\", \"INMUSUPR\", \"HIPERTENSION\", \"OTRA_COM\", \"CARDIOVASCULAR\", \"OBESIDAD\", \"RENAL_CRONICA\"]\n",
    "for enfermedad in comorbilidades:\n",
    "    total = len(data.loc[data[enfermedad] == 1])\n",
    "    registro = {'enfermedad': enfermedad,  'total': total}\n",
    "    enfermedad_total = enfermedad_total.append(registro, ignore_index=True)\n",
    "    \n",
    "enfermedad_total.head(10)    "
   ]
  },
  {
   "cell_type": "code",
   "execution_count": 35,
   "metadata": {},
   "outputs": [
    {
     "data": {
      "image/png": "[encoded data removed]",
      "text/plain": [
       "<Figure size 1440x720 with 1 Axes>"
      ]
     },
     "metadata": {
      "needs_background": "light"
     },
     "output_type": "display_data"
    }
   ],
   "source": [
    "plt.figure(figsize=(20,10)) \n",
    "plt.barh('enfermedad', 'total', data=enfermedad_total, color='pink')\n",
    "plt.title('Total pacientes con la enfermedad')\n",
    "plt.xlabel('Enfermedad')\n",
    "plt.ylabel('Total')\n",
    "plt.show()"
   ]
  },
  {
   "cell_type": "markdown",
   "metadata": {
    "id": "MteDHwHM73zH"
   },
   "source": [
    "## REGRESIÓN LOGISTICA"
   ]
  },
  {
   "cell_type": "markdown",
   "metadata": {
    "id": "omwSBYSF73zI"
   },
   "source": [
    "A continuación vamos a realizar una regresión logistica con spark con la intención de predecir el ingreso en UCI de los pacientes en función de sus caracteristicas clínicas. Os proponemos un esuqema de cómo hacerlo pero no es la única forma de realizarlo, podeis hacerlo de otra forma si lo considerais."
   ]
  },
  {
   "cell_type": "markdown",
   "metadata": {
    "id": "aCjzCM2L73zJ"
   },
   "source": [
    "**En primer lugar vamos a preparar los datos utilizando la función VectorAssembler https://spark.apache.org/docs/latest/ml-features.html#vectorassembler** Las features de nuestro modelo serán [\"SEXO\",\"EDAD\",\"DIABETES\",\"EPOC\",\"ASMA\",\"INMUSUPR\",\"HIPERTENSION\",\"OTRA_COM\",\"CARDIOVASCULAR\",\"OBESIDAD\",\"RENAL_CRONICA\"] y la variable objetivo UCI. Igualad el resultado a nuevo dataframe."
   ]
  },
  {
   "cell_type": "code",
   "execution_count": 36,
   "metadata": {
    "id": "4EfR15t773zJ"
   },
   "outputs": [],
   "source": [
    "from pyspark.ml.feature import VectorAssembler\n",
    "\n",
    "# Crear objeto Assembler\n",
    "assembler = VectorAssembler(inputCols=[\n",
    "    \"SEXO\",\"EDAD\",\"DIABETES\",\"EPOC\",\"ASMA\",\"INMUSUPR\",\"HIPERTENSION\",\"OTRA_COM\",\"CARDIOVASCULAR\",\"OBESIDAD\",\"RENAL_CRONICA\"\n",
    "], outputCol = 'features')\n",
    "\n",
    "# Consolidar columnas predictoras\n",
    "df_assembled = assembler.transform(df)"
   ]
  },
  {
   "cell_type": "code",
   "execution_count": 37,
   "metadata": {},
   "outputs": [
    {
     "name": "stdout",
     "output_type": "stream",
     "text": [
      "+----+----+----------+--------+----+----+--------+------------+--------+--------------+--------+-------------+---+--------------------+-----+\n",
      "|SEXO|EDAD| FECHA_DEF|DIABETES|EPOC|ASMA|INMUSUPR|HIPERTENSION|OTRA_COM|CARDIOVASCULAR|OBESIDAD|RENAL_CRONICA|UCI|            features|label|\n",
      "+----+----+----------+--------+----+----+--------+------------+--------+--------------+--------+-------------+---+--------------------+-----+\n",
      "|   2|  47|9999-99-99|       1|   2|   2|       2|           2|       2|             2|       2|            2|  2|[2.0,47.0,1.0,2.0...|    2|\n",
      "|   2|  54|9999-99-99|       2|   2|   2|       2|           2|       2|             2|       2|            2|  2|[2.0,54.0,2.0,2.0...|    2|\n",
      "|   1|  26|9999-99-99|       2|   2|   2|       2|           2|       2|             2|       2|            2|  2|[1.0,26.0,2.0,2.0...|    2|\n",
      "|   1|  32|9999-99-99|       1|   2|   2|       2|           1|       2|             2|       2|            2|  2|[1.0,32.0,1.0,2.0...|    2|\n",
      "|   1|  43|9999-99-99|       2|   2|   2|       2|           2|       2|             2|       2|            2|  2|[1.0,43.0,2.0,2.0...|    2|\n",
      "+----+----+----------+--------+----+----+--------+------------+--------+--------------+--------+-------------+---+--------------------+-----+\n",
      "only showing top 5 rows\n",
      "\n"
     ]
    }
   ],
   "source": [
    "# Agreamos una nueva columna llamada label  utilizando los valores de la columna UCI.\n",
    "df_assembled = df_assembled.withColumn(\"label\", df[\"UCI\"])\n",
    "df_assembled.show(5)"
   ]
  },
  {
   "cell_type": "code",
   "execution_count": 38,
   "metadata": {},
   "outputs": [],
   "source": [
    "# El dataframe final tendra unicamente las columnas  features y label.(**Importante que el conjunto de datos final tenga una columna llamada label, para que al aplicar entrenar el modelo,\n",
    "# no se muestre un error, porque no se encuentra la columna 'label')\n",
    "df_final = df_assembled.select('features', 'label')"
   ]
  },
  {
   "cell_type": "code",
   "execution_count": 39,
   "metadata": {},
   "outputs": [
    {
     "name": "stdout",
     "output_type": "stream",
     "text": [
      "+----------------------------------------------+-----+\n",
      "|features                                      |label|\n",
      "+----------------------------------------------+-----+\n",
      "|[2.0,47.0,1.0,2.0,2.0,2.0,2.0,2.0,2.0,2.0,2.0]|2    |\n",
      "|[2.0,54.0,2.0,2.0,2.0,2.0,2.0,2.0,2.0,2.0,2.0]|2    |\n",
      "|[1.0,26.0,2.0,2.0,2.0,2.0,2.0,2.0,2.0,2.0,2.0]|2    |\n",
      "|[1.0,32.0,1.0,2.0,2.0,2.0,1.0,2.0,2.0,2.0,2.0]|2    |\n",
      "|[1.0,43.0,2.0,2.0,2.0,2.0,2.0,2.0,2.0,2.0,2.0]|2    |\n",
      "+----------------------------------------------+-----+\n",
      "only showing top 5 rows\n",
      "\n"
     ]
    }
   ],
   "source": [
    "df_final.show(5, truncate = False)"
   ]
  },
  {
   "cell_type": "markdown",
   "metadata": {
    "id": "YmePu9Na73zK"
   },
   "source": [
    "**Vamos a dividir en dataset en conjunto de test y de entrenamiento, utilizad la función randomSplit https://spark.apache.org/docs/3.1.1/api/python/reference/api/pyspark.sql.DataFrame.randomSplit.html**"
   ]
  },
  {
   "cell_type": "code",
   "execution_count": 40,
   "metadata": {
    "id": "LoPWy31B73zL"
   },
   "outputs": [],
   "source": [
    "#Dividid los datos en conjunto de entrenamiento y test y mostrad por pantalla un count de cada uno de los dos nuevos dataframes.\n",
    "df_train, df_test = df_final.randomSplit([0.8, 0.2], seed = 24)"
   ]
  },
  {
   "cell_type": "code",
   "execution_count": 41,
   "metadata": {},
   "outputs": [
    {
     "name": "stdout",
     "output_type": "stream",
     "text": [
      "Nº Filas del conjunto de entrenamiento: 363885\n"
     ]
    }
   ],
   "source": [
    "print('Nº Filas del conjunto de entrenamiento:',df_train.count())"
   ]
  },
  {
   "cell_type": "code",
   "execution_count": 42,
   "metadata": {},
   "outputs": [
    {
     "name": "stdout",
     "output_type": "stream",
     "text": [
      "Nº Filas del conjunto de test: 90818\n"
     ]
    }
   ],
   "source": [
    "print('Nº Filas del conjunto de test:', df_test.count())"
   ]
  },
  {
   "cell_type": "markdown",
   "metadata": {
    "id": "sNONxZA273zN"
   },
   "source": [
    "**A continuación entrenamos la Regresión Logistica utilizando la función LogisticRegression https://spark.apache.org/docs/latest/ml-classification-regression.html#logistic-regression**"
   ]
  },
  {
   "cell_type": "code",
   "execution_count": 43,
   "metadata": {
    "id": "dd-uwT1u73zO"
   },
   "outputs": [],
   "source": [
    "#En esta celda entrenad la regresión logistica\n",
    "from pyspark.ml.classification import LogisticRegression\n",
    "\n",
    "# crear un objeto clasificador\n",
    "logistic = LogisticRegression()\n",
    "# Entrenar modelo con datos de entrenamiento.\n",
    "log_reg = logistic.fit(df_train)"
   ]
  },
  {
   "cell_type": "code",
   "execution_count": 44,
   "metadata": {
    "id": "fj89xEKb73zQ"
   },
   "outputs": [],
   "source": [
    "#En esta celda, utilizando el modelo que acabais de crar, realizad las predicciones para el conjunto de test y mostrad algunos de los resultados por pantalla. \n",
    "\n",
    "# Obtener predicciones con los datos de test.\n",
    "prediction = log_reg.transform(df_test)"
   ]
  },
  {
   "cell_type": "code",
   "execution_count": 45,
   "metadata": {},
   "outputs": [
    {
     "name": "stdout",
     "output_type": "stream",
     "text": [
      "+--------------------+-----+--------------------+--------------------+----------+\n",
      "|            features|label|       rawPrediction|         probability|prediction|\n",
      "+--------------------+-----+--------------------+--------------------+----------+\n",
      "|[1.0,0.0,1.0,2.0,...|    2|[-33.606968704472...|[8.31984707272361...|       2.0|\n",
      "|[1.0,0.0,1.0,2.0,...|    2|[-34.950253684298...|[1.21979448570236...|       2.0|\n",
      "|[1.0,0.0,2.0,2.0,...|    1|[-32.014896145805...|[9.70879424927754...|       2.0|\n",
      "|[1.0,0.0,2.0,2.0,...|    1|[-32.014896145805...|[9.70879424927754...|       2.0|\n",
      "|[1.0,0.0,2.0,2.0,...|    2|[-32.014896145805...|[9.70879424927754...|       2.0|\n",
      "+--------------------+-----+--------------------+--------------------+----------+\n",
      "only showing top 5 rows\n",
      "\n"
     ]
    }
   ],
   "source": [
    "prediction.show(5)"
   ]
  },
  {
   "cell_type": "code",
   "execution_count": 46,
   "metadata": {},
   "outputs": [
    {
     "name": "stdout",
     "output_type": "stream",
     "text": [
      "+-----+----------+-----+\n",
      "|label|prediction|count|\n",
      "+-----+----------+-----+\n",
      "|    1|       2.0| 2294|\n",
      "|    2|       2.0|88524|\n",
      "+-----+----------+-----+\n",
      "\n"
     ]
    }
   ],
   "source": [
    "prediction.groupby('label', 'prediction').count().show()"
   ]
  },
  {
   "cell_type": "code",
   "execution_count": 47,
   "metadata": {
    "id": "nrsjlUwO73zR"
   },
   "outputs": [
    {
     "name": "stdout",
     "output_type": "stream",
     "text": [
      "+----------+-----+\n",
      "|prediction|count|\n",
      "+----------+-----+\n",
      "|       2.0|90818|\n",
      "+----------+-----+\n",
      "\n"
     ]
    }
   ],
   "source": [
    "#Haced un count de los valores de la variable predicha UCI.\n",
    "prediction.groupby('prediction').count().show()"
   ]
  },
  {
   "cell_type": "markdown",
   "metadata": {
    "id": "gbOLvhjX73zS"
   },
   "source": [
    "**¿Qué ha occurido y por qué? ¿Hay algún error en la predicción que estamos haciendo? En caso de que lo haya explica cómo lo solucionariais y vuelve a entrenar la regresión solucionando el problema**"
   ]
  },
  {
   "cell_type": "markdown",
   "metadata": {
    "id": "liWH2Txs73zS"
   },
   "source": [
    "PISTA: ¿El dataset está \"desbalanceado\"? **Completa esta celda explicando qué significa que el dataset esté desbalanceado, por qué lo está o no lo está, y como se arregla en caso de estarlo**"
   ]
  },
  {
   "cell_type": "code",
   "execution_count": 48,
   "metadata": {
    "id": "sQk3MLVh73zT"
   },
   "outputs": [
    {
     "name": "stdout",
     "output_type": "stream",
     "text": [
      "+--------------------+-----+\n",
      "|            features|label|\n",
      "+--------------------+-----+\n",
      "|[2.0,47.0,1.0,2.0...|    2|\n",
      "|[2.0,54.0,2.0,2.0...|    2|\n",
      "|[1.0,26.0,2.0,2.0...|    2|\n",
      "|[1.0,32.0,1.0,2.0...|    2|\n",
      "|[1.0,43.0,2.0,2.0...|    2|\n",
      "+--------------------+-----+\n",
      "only showing top 5 rows\n",
      "\n",
      "+-----+------+\n",
      "|label| count|\n",
      "+-----+------+\n",
      "|    1| 11278|\n",
      "|    2|443425|\n",
      "+-----+------+\n",
      "\n"
     ]
    }
   ],
   "source": [
    "#Demostrad si el dataset esta desbalanceado o no\n",
    "\n",
    "# Respuesta: Si analizamos la columna UCI del conjunto de datos df_final, podemos ver claramente que de las 454703 filas que tiene el conjunto de datos, 11278  representan \n",
    "# la etiqueta 1(UCI = Si) y 443425 representan la etiqueta 2(UCI = No). Se aprecia sin ningun tipo de duda que el conjunto de datos esta muy desbalanceado. Si entrenamos un modelo \n",
    "# con datos desbalanceados  donde predomina más una etqueta que otra, obtenemos como hemos visto en el caso anterior una prediccion muy mala, ya que no es capaz de predecir corretamente.\n",
    "# Si nuestro conjunto de datos de entramiento tiene 363885 filas, las filas de entrenamiento con etiqueta 1 van a ser muy pocas con respecto a la etiqueta 2. \n",
    "# El modelo ha sido entrenado con datos sesgados. Además nuestro conjunto de datos de test tiene 90818 filas (de las cuales se observa que el modelo predice 2294 filas \n",
    "# de la etiqueta 1 como etiqueta 2 y el resto  88524 las predichas como etqueta 2. No es capaz de dintinguir entre etiqueta 1 y 2, para el modelo todas son de tipo 2.\n",
    "\n",
    "df_final.show(5)\n",
    "df_final.groupby('label').count().show()"
   ]
  },
  {
   "cell_type": "code",
   "execution_count": 49,
   "metadata": {},
   "outputs": [
    {
     "name": "stdout",
     "output_type": "stream",
     "text": [
      "+----------------------------------------------+-----+\n",
      "|features                                      |label|\n",
      "+----------------------------------------------+-----+\n",
      "|[2.0,60.0,1.0,2.0,2.0,2.0,2.0,2.0,2.0,2.0,2.0]|1    |\n",
      "|[2.0,59.0,2.0,2.0,2.0,2.0,2.0,2.0,2.0,2.0,2.0]|1    |\n",
      "|[2.0,69.0,2.0,1.0,2.0,2.0,2.0,2.0,2.0,2.0,2.0]|1    |\n",
      "+----------------------------------------------+-----+\n",
      "only showing top 3 rows\n",
      "\n",
      "11278\n",
      "+----------------------------------------------+-----+\n",
      "|features                                      |label|\n",
      "+----------------------------------------------+-----+\n",
      "|[2.0,47.0,1.0,2.0,2.0,2.0,2.0,2.0,2.0,2.0,2.0]|2    |\n",
      "|[2.0,54.0,2.0,2.0,2.0,2.0,2.0,2.0,2.0,2.0,2.0]|2    |\n",
      "|[1.0,26.0,2.0,2.0,2.0,2.0,2.0,2.0,2.0,2.0,2.0]|2    |\n",
      "+----------------------------------------------+-----+\n",
      "only showing top 3 rows\n",
      "\n",
      "443425\n"
     ]
    }
   ],
   "source": [
    "# ¿Como solucinar que el conjunto de datos esté desbalanceado?\n",
    "\n",
    "# Generar dos dataframes, filtrando el tipo de etiqueta de la columna label.\n",
    "# Dataframe 1, label = 1.\n",
    "df_lab1= df_final.where(col('label') == 1)\n",
    "df_lab1.show(3, truncate=False)\n",
    "print(df_lab1.count())\n",
    "\n",
    "# Dataframe 2, label = 2.\n",
    "df_lab2= df_final.where(col('label') == 2)\n",
    "df_lab2.show(3, truncate=False)\n",
    "print(df_lab2.count())"
   ]
  },
  {
   "cell_type": "code",
   "execution_count": 50,
   "metadata": {},
   "outputs": [
    {
     "name": "stdout",
     "output_type": "stream",
     "text": [
      "La muestra obtenida para Dataframe 1 tiene 11278 filas\n",
      "La muestra obtenida para Dataframe 2 tiene 11211 filas\n",
      "Ahora si, existe una proporcion de muestras similar entre el dataset 1 y el dataset 2.\n"
     ]
    }
   ],
   "source": [
    "# Obtener una muestra aleatoria de cada DataFrame\n",
    "# el valor  para el parametro fraction  es obtener la relación entre el tamaño deseado de la muestra y el tamaño original\n",
    "# el valor de fraction esta comprendido entre un rango entre [0.0, 1.0].\n",
    "\n",
    "sample_df_lab1 = df_lab1.sample(fraction=df_lab1.count()/df_lab1.count(), seed = 15)\n",
    "print('La muestra obtenida para Dataframe 1 tiene {} filas'.format(sample_df_lab1.count()))\n",
    "\n",
    "sample_df_lab2 = df_lab2.sample(fraction=df_lab1.count()/df_lab2.count(), seed = 15)\n",
    "print('La muestra obtenida para Dataframe 2 tiene {} filas'.format(sample_df_lab2.count()))\n",
    "\n",
    "print('Ahora si, existe una proporcion de muestras similar entre el dataset 1 y el dataset 2.')"
   ]
  },
  {
   "cell_type": "code",
   "execution_count": 51,
   "metadata": {},
   "outputs": [
    {
     "name": "stdout",
     "output_type": "stream",
     "text": [
      "+-----+-----+\n",
      "|label|count|\n",
      "+-----+-----+\n",
      "|    1|11278|\n",
      "|    2|11211|\n",
      "+-----+-----+\n",
      "\n"
     ]
    }
   ],
   "source": [
    "# Unimos las filas del Dataframe 1 con el DataFrame 2.\n",
    "df_balanceado = sample_df_lab1.union(sample_df_lab2)\n",
    "df_balanceado.groupby('label').count().show()"
   ]
  },
  {
   "cell_type": "code",
   "execution_count": 52,
   "metadata": {},
   "outputs": [
    {
     "name": "stdout",
     "output_type": "stream",
     "text": [
      "Nº Filas del conjunto de entrenamiento balanceado: 18014\n",
      "Nº Filas del conjunto de test balanceado: 4475\n"
     ]
    }
   ],
   "source": [
    "# Dividimos los datos en un conjunto de entrenamiento y test \n",
    "df_b_train, df_b_test = df_balanceado.randomSplit([0.8, 0.2], seed = 24)\n",
    "print('Nº Filas del conjunto de entrenamiento balanceado:',df_b_train.count())\n",
    "print('Nº Filas del conjunto de test balanceado:', df_b_test.count())"
   ]
  },
  {
   "cell_type": "code",
   "execution_count": 53,
   "metadata": {},
   "outputs": [
    {
     "name": "stdout",
     "output_type": "stream",
     "text": [
      "+-----+-----+\n",
      "|label|count|\n",
      "+-----+-----+\n",
      "|    1| 9042|\n",
      "|    2| 8972|\n",
      "+-----+-----+\n",
      "\n"
     ]
    }
   ],
   "source": [
    "# Ahora el modelo se va a entrenar con datos de entrenamiento balanceados:   9042 filas (label = 1) y 8972 filas (label = 2)\n",
    "df_b_train.groupby('label').count().show() "
   ]
  },
  {
   "cell_type": "code",
   "execution_count": 54,
   "metadata": {},
   "outputs": [
    {
     "name": "stdout",
     "output_type": "stream",
     "text": [
      "+-----+-----+\n",
      "|label|count|\n",
      "+-----+-----+\n",
      "|    1| 2236|\n",
      "|    2| 2239|\n",
      "+-----+-----+\n",
      "\n"
     ]
    }
   ],
   "source": [
    "# La prediccion se va a hacer con datos de test balanceados: 2236 filas (label = 1) y 2239 filas (label = 2) \n",
    "df_b_test.groupby('label').count().show()"
   ]
  },
  {
   "cell_type": "code",
   "execution_count": 55,
   "metadata": {},
   "outputs": [],
   "source": [
    "#En esta celda entrenad la regresión logistica\n",
    "from pyspark.ml.classification import LogisticRegression\n",
    "\n",
    "# crear un objeto clasificador\n",
    "logistic_b = LogisticRegression()\n",
    "# Entrenar modelo con datos de entrenamiento.\n",
    "log_reg_b = logistic_b.fit(df_b_train)"
   ]
  },
  {
   "cell_type": "code",
   "execution_count": 56,
   "metadata": {},
   "outputs": [
    {
     "name": "stdout",
     "output_type": "stream",
     "text": [
      "+--------------------+-----+--------------------+--------------------+----------+\n",
      "|            features|label|       rawPrediction|         probability|prediction|\n",
      "+--------------------+-----+--------------------+--------------------+----------+\n",
      "|[1.0,0.0,2.0,2.0,...|    1|[-51.398231226814...|[1.33909106002189...|       2.0|\n",
      "|[1.0,0.0,2.0,2.0,...|    1|[-51.398231226814...|[1.33909106002189...|       2.0|\n",
      "|[1.0,0.0,2.0,2.0,...|    1|[-53.646576380361...|[4.10867905359801...|       2.0|\n",
      "|[1.0,0.0,2.0,2.0,...|    1|[-53.646576380361...|[4.10867905359801...|       2.0|\n",
      "|[1.0,0.0,2.0,2.0,...|    1|[-56.951071516892...|[2.48939801646141...|       2.0|\n",
      "|[1.0,0.0,2.0,2.0,...|    1|[-56.951071516892...|[2.48939801646141...|       2.0|\n",
      "|[1.0,0.0,2.0,2.0,...|    1|[-56.951071516892...|[2.48939801646141...|       2.0|\n",
      "|[1.0,0.0,2.0,2.0,...|    1|[-56.951071516892...|[2.48939801646141...|       2.0|\n",
      "|[1.0,0.0,2.0,2.0,...|    1|[-56.951071516892...|[2.48939801646141...|       2.0|\n",
      "|[1.0,0.0,2.0,2.0,...|    1|[-56.951071516892...|[2.48939801646141...|       2.0|\n",
      "|[1.0,0.0,2.0,2.0,...|    1|[-56.951071516892...|[2.48939801646141...|       2.0|\n",
      "|[1.0,0.0,2.0,2.0,...|    1|[-56.951071516892...|[2.48939801646141...|       2.0|\n",
      "|[1.0,1.0,2.0,2.0,...|    1|[-53.654825884055...|[4.09859490738332...|       2.0|\n",
      "|[1.0,3.0,2.0,2.0,...|    1|[-51.422979737894...|[1.32256233142262...|       2.0|\n",
      "|[1.0,4.0,2.0,2.0,...|    1|[-51.431229241587...|[1.31671360362050...|       2.0|\n",
      "|[1.0,5.0,2.0,2.0,...|    1|[-56.992319035358...|[2.47383680397965...|       2.0|\n",
      "|[1.0,8.0,2.0,2.0,...|    1|[-57.017067546438...|[2.46183191717375...|       2.0|\n",
      "|[1.0,9.0,2.0,2.0,...|    1|[-53.841426624926...|[3.21399003221859...|       2.0|\n",
      "|[1.0,9.0,2.0,2.0,...|    1|[-57.025317050131...|[2.45736167173881...|       2.0|\n",
      "|[1.0,11.0,2.0,2.0...|    1|[-51.488975767440...|[1.27097473021966...|       2.0|\n",
      "+--------------------+-----+--------------------+--------------------+----------+\n",
      "only showing top 20 rows\n",
      "\n"
     ]
    }
   ],
   "source": [
    "# Obtener predicciones con los datos de test.\n",
    "prediction_b = log_reg_b.transform(df_b_test)\n",
    "prediction_b.show()"
   ]
  },
  {
   "cell_type": "markdown",
   "metadata": {
    "id": "OceFZ5by73zU"
   },
   "source": [
    "**Por último vamos a analizar las métricas del modelo, se pide ver el *Accuracy* del modelo y la matriz de confusión** "
   ]
  },
  {
   "cell_type": "code",
   "execution_count": 57,
   "metadata": {},
   "outputs": [
    {
     "name": "stdout",
     "output_type": "stream",
     "text": [
      "+-----+----------+-----+\n",
      "|label|prediction|count|\n",
      "+-----+----------+-----+\n",
      "|    2|       1.0|  752|\n",
      "|    1|       2.0|  693|\n",
      "|    2|       2.0| 1487|\n",
      "|    1|       1.0| 1543|\n",
      "+-----+----------+-----+\n",
      "\n"
     ]
    }
   ],
   "source": [
    "# Matriz de confusion:\n",
    "prediction_b.groupby('label', 'prediction').count().show()"
   ]
  },
  {
   "cell_type": "code",
   "execution_count": 58,
   "metadata": {},
   "outputs": [
    {
     "name": "stdout",
     "output_type": "stream",
     "text": [
      "Accuracy :  0.6770949720670391\n"
     ]
    }
   ],
   "source": [
    "TP = prediction_b.filter('prediction = 1 AND label = prediction').count()\n",
    "TN = prediction_b.filter('prediction = 2 AND label = prediction').count()\n",
    "FP = prediction_b.filter('prediction = 1 AND label = 2').count()\n",
    "FN = prediction_b.filter('prediction = 2 AND label = 1').count()\n",
    "\n",
    "accuracy = (TN +TP) / (TN+TP+FN+FP)\n",
    "print(\"Accuracy : \",accuracy)"
   ]
  },
  {
   "cell_type": "markdown",
   "metadata": {},
   "source": [
    "**Conclusiones:**\n",
    "\n",
    "Con respecto a los datos obtenidos en la matriz de confusion se obtienen los siguientes resultados:\n",
    "\n",
    "* Verdaderos Postivos (TP) :  El modelo predice un resultado positivo(1) y la etiqueta conocida es positiva(1). El modelo predice 1543  verdaderos positivos.\n",
    "* Verdaderos Negativos (TN) : El modelo predice un resultado negativo(2) y la etiqueta conocida es negativa(2). El modelo predice 1487 verdaderos negativos.\n",
    "* Falsos Postivos (FP) :  El modelo predice un resultado positivo(1) y la etiqueta conocida es negativa(2). El modelo predice 752 falsos positivos.\n",
    "* Falsos Negativos (TN) : El modelo predice un resultado negativo(2) y la etiqueta conocida es postiva(1). El modelo predice 693 falsos negativos.\n",
    "\n",
    "El modelo obtiene un 67% de predicciones correctas respecto al total."
   ]
  },
  {
   "cell_type": "code",
   "execution_count": 59,
   "metadata": {
    "id": "Sf4wps4b73zW"
   },
   "outputs": [],
   "source": [
    "from pyspark.sql.types import FloatType\n",
    "from pyspark.mllib.evaluation import MulticlassMetrics\n",
    "\n",
    "prediction_Labels = log_reg_b.transform(df_b_test).select('prediction', 'label')"
   ]
  },
  {
   "cell_type": "code",
   "execution_count": 60,
   "metadata": {},
   "outputs": [
    {
     "name": "stdout",
     "output_type": "stream",
     "text": [
      "[[1543.  693.]\n",
      " [ 752. 1487.]]\n"
     ]
    }
   ],
   "source": [
    "# Importante: el formato esperado de la funcion MulticlassMetrics espera un RDD o lista con tuplas que sigan el formato (prediction, label), además el tipo de dato  de prediction y \n",
    "# label debe ser el mismo.\n",
    "\n",
    "# Crear un objeto MulticlassMetrics\n",
    "metrics = MulticlassMetrics(prediction_Labels.rdd.map((lambda x: tuple(map(float, x)))))\n",
    "\n",
    "# métricas de evaluación,  matriz de confusión\n",
    "print(metrics.confusionMatrix().toArray())"
   ]
  },
  {
   "cell_type": "markdown",
   "metadata": {},
   "source": [
    "**Otras métricas:**"
   ]
  },
  {
   "cell_type": "code",
   "execution_count": 61,
   "metadata": {},
   "outputs": [
    {
     "name": "stdout",
     "output_type": "stream",
     "text": [
      "Precisión: 0.6770949720670391\n",
      "Exactitud (Accuracy): 0.6770949720670391\n",
      "Recall: 0.6770949720670391\n",
      "F1-score(F-Measure): 0.6770949720670391\n"
     ]
    }
   ],
   "source": [
    "# Precisión : proporción de predicciones correctas entre todas las predicciones positivas\n",
    "precision = metrics.precision()\n",
    "\n",
    "# Exactitud(Accuracy): proporción de predicciones correctas en relación con todas las predicciones realizadas.\n",
    "# El accuracy  puede ser una medida engañosa en casos donde las clases no están balanceadas. \n",
    "# Ej.: si tienes un conjunto de datos en el que el 90% de las instancias pertenecen a la clase A y el 10% a la clase B, \n",
    "# un modelo que siempre predice la clase A obtendrá una precisión del 90%, obtienes un valor alto, pero no es útil, ya que la prediccion no es correcta.\n",
    "\n",
    "accuracy = metrics.accuracy\n",
    "\n",
    "# Recall:  proporción de predicciones correctas entre todas las instancias positivas reales\n",
    "recall = metrics.recall()\n",
    "\n",
    "# F1-score(Fmeasure) es una métrica más adecuada; esta métrica combina la precision y el recall en un solo valor.\n",
    "f_measure = metrics.fMeasure()\n",
    "\n",
    "\n",
    "print(\"Precisión:\", precision)\n",
    "print(\"Exactitud (Accuracy):\", accuracy)\n",
    "print(\"Recall:\", recall)\n",
    "print(\"F1-score(F-Measure):\", f_measure)"
   ]
  },
  {
   "cell_type": "markdown",
   "metadata": {
    "id": "LGaIhB-f73zX"
   },
   "source": [
    "## ARBOL DE DECISIÓN"
   ]
  },
  {
   "cell_type": "markdown",
   "metadata": {
    "id": "IwIctIpu73zX"
   },
   "source": [
    "**Por último, para acabar la práctica, vamos a repetir la predicción que hemos hecho anteriormente, pero utilizando otro tipo de modelo, en este caso un árbol de decisión. Podeis encointrar documentación sobre los árboles aquí: https://spark.apache.org/docs/latest/ml-classification-regression.html#decision-tree-classifier**"
   ]
  },
  {
   "cell_type": "code",
   "execution_count": 62,
   "metadata": {
    "id": "IMXLA5kq73zY"
   },
   "outputs": [
    {
     "name": "stdout",
     "output_type": "stream",
     "text": [
      "+--------------------+-----+-----------------+--------------------+----------+\n",
      "|            features|label|    rawPrediction|         probability|prediction|\n",
      "+--------------------+-----+-----------------+--------------------+----------+\n",
      "|[1.0,0.0,2.0,2.0,...|    1|   [0.0,35.0,1.0]|[0.0,0.9722222222...|       1.0|\n",
      "|[1.0,0.0,2.0,2.0,...|    1|   [0.0,35.0,1.0]|[0.0,0.9722222222...|       1.0|\n",
      "|[1.0,0.0,2.0,2.0,...|    1|   [0.0,35.0,5.0]|   [0.0,0.875,0.125]|       1.0|\n",
      "|[1.0,0.0,2.0,2.0,...|    1|   [0.0,35.0,5.0]|   [0.0,0.875,0.125]|       1.0|\n",
      "|[1.0,0.0,2.0,2.0,...|    1|[0.0,245.0,275.0]|[0.0,0.4711538461...|       2.0|\n",
      "|[1.0,0.0,2.0,2.0,...|    1|[0.0,245.0,275.0]|[0.0,0.4711538461...|       2.0|\n",
      "|[1.0,0.0,2.0,2.0,...|    1|[0.0,245.0,275.0]|[0.0,0.4711538461...|       2.0|\n",
      "|[1.0,0.0,2.0,2.0,...|    1|[0.0,245.0,275.0]|[0.0,0.4711538461...|       2.0|\n",
      "|[1.0,0.0,2.0,2.0,...|    1|[0.0,245.0,275.0]|[0.0,0.4711538461...|       2.0|\n",
      "|[1.0,0.0,2.0,2.0,...|    1|[0.0,245.0,275.0]|[0.0,0.4711538461...|       2.0|\n",
      "|[1.0,0.0,2.0,2.0,...|    1|[0.0,245.0,275.0]|[0.0,0.4711538461...|       2.0|\n",
      "|[1.0,0.0,2.0,2.0,...|    1|[0.0,245.0,275.0]|[0.0,0.4711538461...|       2.0|\n",
      "|[1.0,1.0,2.0,2.0,...|    1|   [0.0,35.0,5.0]|   [0.0,0.875,0.125]|       1.0|\n",
      "|[1.0,3.0,2.0,2.0,...|    1|   [0.0,35.0,1.0]|[0.0,0.9722222222...|       1.0|\n",
      "|[1.0,4.0,2.0,2.0,...|    1|   [0.0,35.0,1.0]|[0.0,0.9722222222...|       1.0|\n",
      "|[1.0,5.0,2.0,2.0,...|    1|[0.0,245.0,275.0]|[0.0,0.4711538461...|       2.0|\n",
      "|[1.0,8.0,2.0,2.0,...|    1|[0.0,245.0,275.0]|[0.0,0.4711538461...|       2.0|\n",
      "|[1.0,9.0,2.0,2.0,...|    1|[0.0,245.0,275.0]|[0.0,0.4711538461...|       2.0|\n",
      "|[1.0,9.0,2.0,2.0,...|    1|[0.0,245.0,275.0]|[0.0,0.4711538461...|       2.0|\n",
      "|[1.0,11.0,2.0,2.0...|    1|   [0.0,35.0,1.0]|[0.0,0.9722222222...|       1.0|\n",
      "+--------------------+-----+-----------------+--------------------+----------+\n",
      "only showing top 20 rows\n",
      "\n"
     ]
    }
   ],
   "source": [
    "from pyspark.ml import Pipeline\n",
    "from pyspark.ml.classification import DecisionTreeClassifier\n",
    "from pyspark.ml.feature import StringIndexer, VectorIndexer\n",
    "from pyspark.ml.evaluation import MulticlassClassificationEvaluator\n",
    "\n",
    "# Crear objeto Decision Tree Classifier\n",
    "tree = DecisionTreeClassifier()\n",
    "\n",
    "# Entrenar modelo con datos de entrenamiento balanceado\n",
    "tree_model = tree.fit(df_b_train)\n",
    "\n",
    "# Obtener predicciones con los datos de test.\n",
    "prediction_tree= tree_model.transform(df_b_test)\n",
    "prediction_tree.show()"
   ]
  },
  {
   "cell_type": "markdown",
   "metadata": {
    "id": "ce6MbC5v73zZ"
   },
   "source": [
    "**Explica el output del modelo, explica el arbol de decisión importante, cuales serian las variables que predicirian el ingreso en UCI de un paciente** Utilizad la función *toDebugString*."
   ]
  },
  {
   "cell_type": "code",
   "execution_count": 63,
   "metadata": {
    "id": "cnaLhc2r73za"
   },
   "outputs": [
    {
     "name": "stdout",
     "output_type": "stream",
     "text": [
      "DecisionTreeClassificationModel (uid=DecisionTreeClassifier_f22c2ccbc389) of depth 5 with 35 nodes\n",
      "  If (feature 1 <= 44.5)\n",
      "   If (feature 2 <= 1.5)\n",
      "    If (feature 1 <= 19.5)\n",
      "     If (feature 9 <= 1.5)\n",
      "      If (feature 0 <= 1.5)\n",
      "       Predict: 1.0\n",
      "      Else (feature 0 > 1.5)\n",
      "       Predict: 2.0\n",
      "     Else (feature 9 > 1.5)\n",
      "      Predict: 1.0\n",
      "    Else (feature 1 > 19.5)\n",
      "     If (feature 1 <= 35.5)\n",
      "      If (feature 9 <= 1.5)\n",
      "       Predict: 2.0\n",
      "      Else (feature 9 > 1.5)\n",
      "       Predict: 1.0\n",
      "     Else (feature 1 > 35.5)\n",
      "      Predict: 1.0\n",
      "   Else (feature 2 > 1.5)\n",
      "    If (feature 1 <= 19.5)\n",
      "     If (feature 5 <= 1.5)\n",
      "      Predict: 1.0\n",
      "     Else (feature 5 > 1.5)\n",
      "      If (feature 7 <= 1.5)\n",
      "       Predict: 1.0\n",
      "      Else (feature 7 > 1.5)\n",
      "       Predict: 2.0\n",
      "    Else (feature 1 > 19.5)\n",
      "     Predict: 2.0\n",
      "  Else (feature 1 > 44.5)\n",
      "   If (feature 1 <= 57.5)\n",
      "    If (feature 2 <= 1.5)\n",
      "     Predict: 1.0\n",
      "    Else (feature 2 > 1.5)\n",
      "     If (feature 0 <= 1.5)\n",
      "      If (feature 9 <= 1.5)\n",
      "       Predict: 1.0\n",
      "      Else (feature 9 > 1.5)\n",
      "       Predict: 2.0\n",
      "     Else (feature 0 > 1.5)\n",
      "      Predict: 1.0\n",
      "   Else (feature 1 > 57.5)\n",
      "    If (feature 2 <= 1.5)\n",
      "     If (feature 1 <= 59.5)\n",
      "      If (feature 10 <= 1.5)\n",
      "       Predict: 2.0\n",
      "      Else (feature 10 > 1.5)\n",
      "       Predict: 1.0\n",
      "     Else (feature 1 > 59.5)\n",
      "      Predict: 1.0\n",
      "    Else (feature 2 > 1.5)\n",
      "     Predict: 1.0\n",
      "\n"
     ]
    }
   ],
   "source": [
    "# toDebugString - devuelve una representación del arbol de decision que muestra las reglas decision que ha usado el modelo para clasificar los pacientes que ingresan en UCI.\n",
    "\n",
    "print(tree_model.toDebugString)\n"
   ]
  },
  {
   "cell_type": "markdown",
   "metadata": {},
   "source": [
    "**Tras realizar un representación manual  de las reglas de decision se observa:**"
   ]
  },
  {
   "cell_type": "markdown",
   "metadata": {},
   "source": [
    "![Representacion Arbol de Decision.png](../images/Representacion_Decision_Tree.png)"
   ]
  },
  {
   "cell_type": "markdown",
   "metadata": {},
   "source": [
    "**En esta celda explica en texto el output del árbol**\n",
    "\n",
    "- Una persona con 57.5 años o menos sin diabetes, mujer con obesidad si ingresa en UCI.\n",
    "- Una persona con 57.5 años o menos sin diabetes, mujer sin obesidad no ingresa en UCI.\n",
    "- Una persona con 57.5 años o menos sin diabetes y hombre si ingresa en UCI.\n",
    "- Una persona con 57.5 años o menos con diabetes si ingresa en UCI.\n",
    "- Una persona mayor de 44.5 años o mayor de 57.5 años con diabetes  y menor de 59.5 años con  insuficiencia renal crónica no ingresa en UCI.\n",
    "- Una persona mayor de 44.5 años o mayor de 57.5 años con diabetes  y menor de 59.5 años sin  insuficiencia renal crónica si ingresa en UCI.\n",
    "- Una persona mayor de 44.5 años o mayor de 57.5 años con diabetes  y mayor de 59.5 años si ingresa en UCI.\n",
    "- Una persona mayor de 44.5 años o mayor de 57.5 años sin diabetes si ingresa en UCI.\n",
    "- Una persona con 44.5 o menos y mayor de 19,5 años sin diabetes  no ingresa en UCI.\n",
    "- Una persona con 44.5 o menos y menor de 19,5 años con inmunosupresión si ingresa en UCI.\n",
    "- Una persona con 44.5 o menos y menor de 19,5 años sin inmunosupresión sin otras enfermedades no ingresa en UCI.\n",
    "- Una persona con 44.5 o menos y menor de 19,5 años sin inmunosupresión pero con otras enfermedades si ingresa en UCI.\n",
    "- Una persona con 44.5  con diabetes y menor de 19.5 años, con obsesidad y mujer si ingresa en UCI.\n",
    "- Una persona con 44.5  con diabetes y menor de 19.5 años, sin obsesidad si ingresa en UCI.\n",
    "- Una persona con 44.5  con diabetes y menor de 19.5 años, con obsesidad y hombre, no ingresa en UCI.\n",
    "- Una persona con 44.5  con diabetes y menor de 19.5 años, con obsesidad y mujer, si ingresa en UCI.\n",
    "\n",
    "- Una persona con 44.5 o menos , con diabetes, mayor de 19.5 años o mayor de 35.5 si ingresa en UCI.\n",
    "- Una persona con 44.5 o menos , con diabetes, mayor de 19.5 años pero menor de 35.5, sin obesidad si ingresa en UCI.\n",
    "- Una persona con 44.5 o menos , con diabetes, mayor de 19.5 años pero menor de 35.5, con obesidad no ingresa en UCI.\n",
    "\n",
    "\n",
    "**Conclusiones:**\n",
    "\n",
    "Las variables más importantes que predicirian el ingreso en UCI de un paciente sería la edad, diabetes, sexo, obesidad, inmusupr, renal_cronica y otra_com.\n",
    "Se obseva que edad, diabetes y obsesidad son factores determinantes para decidir si el paciente será ingresado o no."
   ]
  },
  {
   "cell_type": "markdown",
   "metadata": {
    "id": "IBuNd27273zb"
   },
   "source": [
    "**Para finalizar la práctica vamos a analizar las métricas del árbol, se pide ver el *Accuracy* del modelo y la matriz de confusión** "
   ]
  },
  {
   "cell_type": "code",
   "execution_count": 64,
   "metadata": {
    "id": "K0JkDD-G73zc"
   },
   "outputs": [
    {
     "name": "stdout",
     "output_type": "stream",
     "text": [
      "+-----+----------+-----+\n",
      "|label|prediction|count|\n",
      "+-----+----------+-----+\n",
      "|    2|       1.0|  932|\n",
      "|    1|       2.0|  484|\n",
      "|    2|       2.0| 1307|\n",
      "|    1|       1.0| 1752|\n",
      "+-----+----------+-----+\n",
      "\n"
     ]
    }
   ],
   "source": [
    "# Matriz de confusion:\n",
    "prediction_tree.groupby('label', 'prediction').count().show()"
   ]
  },
  {
   "cell_type": "code",
   "execution_count": 132,
   "metadata": {},
   "outputs": [
    {
     "name": "stdout",
     "output_type": "stream",
     "text": [
      "Accuracy :  0.6862569832402234\n"
     ]
    }
   ],
   "source": [
    "TP = prediction_tree.filter('prediction = 1 AND label = prediction').count()\n",
    "TN = prediction_tree.filter('prediction = 2 AND label = prediction').count()\n",
    "FP = prediction_tree.filter('prediction = 1 AND label = 2').count()\n",
    "FN = prediction_tree.filter('prediction = 2 AND label = 1').count()\n",
    "\n",
    "accuracy = (TN +TP) / (TN+TP+FN+FP)\n",
    "print(\"Accuracy : \",accuracy)"
   ]
  },
  {
   "cell_type": "markdown",
   "metadata": {},
   "source": [
    "**Conclusiones:**\n",
    "\n",
    "Con respecto a los datos obtenidos en la matriz de confusion se obtienen los siguientes resultados:\n",
    "\n",
    "* Verdaderos Postivos (TP) :  El modelo predice un resultado positivo(1) y la etiqueta conocida es positiva(1). El modelo predice 1751  verdaderos positivos.\n",
    "* Verdaderos Negativos (TN) : El modelo predice un resultado negativo(2) y la etiqueta conocida es negativa(2). El modelo predice 1320 verdaderos negativos.\n",
    "* Falsos Postivos (FP) :  El modelo predice un resultado positivo(1) y la etiqueta conocida es negativa(2). El modelo predice 919 falsos positivos.\n",
    "* Falsos Negativos (TN) : El modelo predice un resultado negativo(2) y la etiqueta conocida es postiva(1). El modelo predice 485 falsos negativos.\n",
    "\n",
    "El modelo obtiene un 68.6% de predicciones correctas respecto al total. Este porcentaje implica que el modelo puede mejorar sus metricas. \n",
    "Entrenar el modelo con una muestra  balanceda más amplia a la que hemos utilizado, seguramente, permitiria al modelo  predecir mejor y por tanto mejorar sus métricas."
   ]
  }
 ],
 "metadata": {
  "colab": {
   "provenance": []
  },
  "kernelspec": {
   "display_name": "Python 3",
   "language": "python",
   "name": "python3"
  },
  "language_info": {
   "codemirror_mode": {
    "name": "ipython",
    "version": 3
   },
   "file_extension": ".py",
   "mimetype": "text/x-python",
   "name": "python",
   "nbconvert_exporter": "python",
   "pygments_lexer": "ipython3",
   "version": "3.5.2"
  }
 },
 "nbformat": 4,
 "nbformat_minor": 4
}
